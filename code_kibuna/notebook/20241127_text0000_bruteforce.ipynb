{
 "cells": [
  {
   "cell_type": "code",
   "execution_count": 1,
   "metadata": {},
   "outputs": [],
   "source": [
    "import sys\n",
    "sys.path.append(\"../\")\n",
    "import glob\n",
    "import pandas as pd\n",
    "from evaluate import PerplexityCalculator"
   ]
  },
  {
   "cell_type": "code",
   "execution_count": 2,
   "metadata": {},
   "outputs": [
    {
     "data": {
      "application/vnd.jupyter.widget-view+json": {
       "model_id": "611dd78e663341cf8c8cb96f10b4b3cd",
       "version_major": 2,
       "version_minor": 0
      },
      "text/plain": [
       "Loading checkpoint shards:   0%|          | 0/8 [00:00<?, ?it/s]"
      ]
     },
     "metadata": {},
     "output_type": "display_data"
    }
   ],
   "source": [
    "scorer = PerplexityCalculator(model_path=\"/home/task/.cache/kagglehub/models/google/gemma-2/transformers/gemma-2-9b/2\")"
   ]
  },
  {
   "cell_type": "code",
   "execution_count": 3,
   "metadata": {},
   "outputs": [
    {
     "data": {
      "text/plain": [
       "6107328.490896726"
      ]
     },
     "execution_count": 3,
     "metadata": {},
     "output_type": "execute_result"
    }
   ],
   "source": [
    "txt = \"test\"\n",
    "scorer.get_perplexity(txt)\n"
   ]
  },
  {
   "cell_type": "code",
   "execution_count": 4,
   "metadata": {},
   "outputs": [],
   "source": [
    "files = glob.glob(\"../../code_ethylene/exp005/save/0005/*.txt\")"
   ]
  },
  {
   "cell_type": "code",
   "execution_count": 6,
   "metadata": {},
   "outputs": [
    {
     "name": "stdout",
     "output_type": "stream",
     "text": [
      "../../code_ethylene/exp005/save/0005/47.5284.txt 47.52843316962603\n",
      "../../code_ethylene/exp005/save/0005/45.6185.txt 45.61846186294896\n",
      "../../code_ethylene/exp005/save/0005/42.4381.txt 42.438114061533675\n",
      "../../code_ethylene/exp005/save/0005/50.4950.txt 50.49503426195374\n",
      "../../code_ethylene/exp005/save/0005/43.1907.txt 43.19069160819034\n",
      "../../code_ethylene/exp005/save/0005/47.3431.txt 47.34313736903344\n",
      "../../code_ethylene/exp005/save/0005/44.5617.txt 44.5617113320772\n",
      "../../code_ethylene/exp005/save/0005/42.7710.txt 42.77096031537661\n",
      "../../code_ethylene/exp005/save/0005/44.3014.txt 44.30137101535166\n",
      "../../code_ethylene/exp005/save/0005/45.3519.txt 45.351947753528236\n",
      "../../code_ethylene/exp005/save/0005/46.3368.txt 46.33684810653952\n",
      "../../code_ethylene/exp005/save/0005/43.7852.txt 43.78524440968234\n",
      "../../code_ethylene/exp005/save/0005/45.1751.txt 45.17513726542669\n",
      "../../code_ethylene/exp005/save/0005/45.7076.txt 45.7076474882609\n",
      "../../code_ethylene/exp005/save/0005/49.3253.txt 49.32531805312982\n",
      "../../code_ethylene/exp005/save/0005/46.7003.txt 46.70027251047952\n",
      "../../code_ethylene/exp005/save/0005/43.2751.txt 43.275130861102994\n"
     ]
    }
   ],
   "source": [
    "for f in files:\n",
    "    with open(f, \"r\") as file:\n",
    "        txt = file.read()\n",
    "    print(f, scorer.get_perplexity(txt))"
   ]
  },
  {
   "cell_type": "code",
   "execution_count": 7,
   "metadata": {},
   "outputs": [],
   "source": [
    "txt = \"peppermint candy chocolate eggnog milk fruitcake gingerbread cookie holly hohoho naughty nice the night magi star advent angel beard bow candle carol cheer chimney chimney elf family fireplace fireplace grinch jingle joy kaggle merry mistletoe night nutcracker ornament peace polar poinsettia reindeer scrooge sleigh stocking visit wonder workshop workshop wreath yuletide gifts and decorations of the holiday season of and to from the is and as in that it we with not you have drive walk jump sing laugh eat sleep bake relax unwrap give wish hope dream believe cheer greeting card ornament wrapping paper toy doll game puzzle snowglobe\""
   ]
  },
  {
   "cell_type": "code",
   "execution_count": 8,
   "metadata": {},
   "outputs": [],
   "source": [
    "texts = [txt] * 1024"
   ]
  },
  {
   "cell_type": "code",
   "execution_count": 9,
   "metadata": {},
   "outputs": [
    {
     "data": {
      "text/plain": [
       "[42.438114061533675,\n",
       " 42.438114061533675,\n",
       " 42.438114061533675,\n",
       " 42.438114061533675,\n",
       " 42.438114061533675,\n",
       " 42.438114061533675,\n",
       " 42.438114061533675,\n",
       " 42.438114061533675,\n",
       " 42.438114061533675,\n",
       " 42.438114061533675]"
      ]
     },
     "execution_count": 9,
     "metadata": {},
     "output_type": "execute_result"
    }
   ],
   "source": [
    "res = scorer.get_perplexity(texts, batch_size=16)\n",
    "res[:10]"
   ]
  },
  {
   "cell_type": "code",
   "execution_count": 10,
   "metadata": {},
   "outputs": [
    {
     "data": {
      "text/plain": [
       "[42.438114061533675,\n",
       " 42.438114061533675,\n",
       " 42.438114061533675,\n",
       " 42.438114061533675,\n",
       " 42.438114061533675,\n",
       " 42.438114061533675,\n",
       " 42.438114061533675,\n",
       " 42.438114061533675,\n",
       " 42.438114061533675,\n",
       " 42.438114061533675]"
      ]
     },
     "execution_count": 10,
     "metadata": {},
     "output_type": "execute_result"
    }
   ],
   "source": [
    "res = scorer.get_perplexity(texts, batch_size=1)\n",
    "res[:10]"
   ]
  },
  {
   "cell_type": "code",
   "execution_count": 11,
   "metadata": {},
   "outputs": [],
   "source": [
    "txt = \"reindeer mistletoe elf gingerbread family advent scrooge chimney fireplace ornament\"\n",
    "texts = [txt] * 1024"
   ]
  },
  {
   "cell_type": "code",
   "execution_count": 12,
   "metadata": {},
   "outputs": [
    {
     "data": {
      "text/plain": [
       "[467.98558773246197,\n",
       " 467.98558773246197,\n",
       " 467.98558773246197,\n",
       " 467.98558773246197,\n",
       " 467.98558773246197,\n",
       " 467.98558773246197,\n",
       " 467.98558773246197,\n",
       " 467.98558773246197,\n",
       " 467.98558773246197,\n",
       " 467.98558773246197]"
      ]
     },
     "execution_count": 12,
     "metadata": {},
     "output_type": "execute_result"
    }
   ],
   "source": [
    "res = scorer.get_perplexity(texts, batch_size=1)\n",
    "res[:10]\n"
   ]
  },
  {
   "cell_type": "code",
   "execution_count": 13,
   "metadata": {},
   "outputs": [
    {
     "data": {
      "text/plain": [
       "[467.98558773246197,\n",
       " 467.98558773246197,\n",
       " 467.98558773246197,\n",
       " 467.98558773246197,\n",
       " 467.98558773246197,\n",
       " 467.98558773246197,\n",
       " 467.98558773246197,\n",
       " 467.98558773246197,\n",
       " 467.98558773246197,\n",
       " 467.98558773246197]"
      ]
     },
     "execution_count": 13,
     "metadata": {},
     "output_type": "execute_result"
    }
   ],
   "source": [
    "res = scorer.get_perplexity(texts, batch_size=16)\n",
    "res[:10]"
   ]
  },
  {
   "cell_type": "code",
   "execution_count": 22,
   "metadata": {},
   "outputs": [
    {
     "data": {
      "text/plain": [
       "[467.98558773246197,\n",
       " 467.98558773246197,\n",
       " 467.98558773246197,\n",
       " 467.98558773246197,\n",
       " 467.98558773246197,\n",
       " 467.98558773246197,\n",
       " 467.98558773246197,\n",
       " 467.98558773246197,\n",
       " 467.98558773246197,\n",
       " 467.98558773246197]"
      ]
     },
     "execution_count": 22,
     "metadata": {},
     "output_type": "execute_result"
    }
   ],
   "source": [
    "res = scorer.get_perplexity(texts, batch_size=32)\n",
    "res[:10]"
   ]
  },
  {
   "cell_type": "code",
   "execution_count": 23,
   "metadata": {},
   "outputs": [],
   "source": [
    "from tqdm import tqdm\n",
    "import numpy as np"
   ]
  },
  {
   "cell_type": "code",
   "execution_count": 29,
   "metadata": {},
   "outputs": [
    {
     "name": "stderr",
     "output_type": "stream",
     "text": [
      "32it [00:00, 64.43it/s, ppls_temp_best=3.2e+3, words_head=advent chimney elf family] "
     ]
    },
    {
     "name": "stdout",
     "output_type": "stream",
     "text": [
      "3457.971761246193\n",
      "advent chimney elf family fireplace gingerbread reindeer mistletoe ornament scrooge\n",
      "3198.101079523691\n",
      "advent chimney elf family fireplace gingerbread scrooge reindeer mistletoe ornament\n"
     ]
    },
    {
     "name": "stderr",
     "output_type": "stream",
     "text": [
      "96it [00:01, 114.46it/s, ppls_temp_best=3.27e+3, words_head=advent chimney elf family]"
     ]
    },
    {
     "name": "stdout",
     "output_type": "stream",
     "text": [
      "3027.9012447308146\n",
      "advent chimney elf family fireplace ornament scrooge reindeer mistletoe gingerbread\n"
     ]
    },
    {
     "name": "stderr",
     "output_type": "stream",
     "text": [
      "128it [00:01, 123.94it/s, ppls_temp_best=2.69e+3, words_head=advent chimney elf family]"
     ]
    },
    {
     "name": "stdout",
     "output_type": "stream",
     "text": [
      "2923.3010403308645\n",
      "advent chimney elf family fireplace scrooge mistletoe reindeer gingerbread ornament\n",
      "2693.07111549734\n",
      "advent chimney elf family fireplace scrooge reindeer mistletoe gingerbread ornament\n"
     ]
    },
    {
     "name": "stderr",
     "output_type": "stream",
     "text": [
      "256it [00:02, 134.44it/s, ppls_temp_best=4.65e+3, words_head=advent chimney elf family]"
     ]
    },
    {
     "name": "stdout",
     "output_type": "stream",
     "text": [
      "2610.214027948303\n",
      "advent chimney elf family gingerbread scrooge reindeer mistletoe fireplace ornament\n"
     ]
    },
    {
     "name": "stderr",
     "output_type": "stream",
     "text": [
      "736it [00:05, 132.85it/s, ppls_temp_best=3.17e+3, words_head=advent chimney elf fireplace]"
     ]
    },
    {
     "name": "stdout",
     "output_type": "stream",
     "text": [
      "2423.501683641344\n",
      "advent chimney elf family scrooge reindeer mistletoe gingerbread fireplace ornament\n"
     ]
    },
    {
     "name": "stderr",
     "output_type": "stream",
     "text": [
      "4448it [00:33, 133.01it/s, ppls_temp_best=2.69e+3, words_head=advent chimney elf scrooge]    "
     ]
    },
    {
     "name": "stdout",
     "output_type": "stream",
     "text": [
      "2180.9154525530494\n",
      "advent chimney elf scrooge family reindeer mistletoe gingerbread fireplace ornament\n"
     ]
    },
    {
     "name": "stderr",
     "output_type": "stream",
     "text": [
      "5904it [00:44, 133.84it/s, ppls_temp_best=2.41e+3, words_head=advent chimney family fireplace]"
     ]
    },
    {
     "name": "stdout",
     "output_type": "stream",
     "text": [
      "2163.9434338520923\n",
      "advent chimney family fireplace elf scrooge reindeer mistletoe gingerbread ornament\n"
     ]
    },
    {
     "name": "stderr",
     "output_type": "stream",
     "text": [
      "40352it [05:00, 134.24it/s, ppls_temp_best=2.89e+3, words_head=advent elf chimney family]           "
     ]
    },
    {
     "name": "stdout",
     "output_type": "stream",
     "text": [
      "2097.36589361631\n",
      "advent elf chimney family fireplace gingerbread mistletoe ornament reindeer scrooge\n"
     ]
    },
    {
     "name": "stderr",
     "output_type": "stream",
     "text": [
      "41056it [05:05, 133.62it/s, ppls_temp_best=2.77e+3, words_head=advent elf chimney fireplace]"
     ]
    },
    {
     "name": "stdout",
     "output_type": "stream",
     "text": [
      "2040.7930269501435\n",
      "advent elf chimney family scrooge reindeer mistletoe gingerbread fireplace ornament\n"
     ]
    },
    {
     "name": "stderr",
     "output_type": "stream",
     "text": [
      "45344it [05:37, 135.62it/s, ppls_temp_best=2.11e+3, words_head=advent elf chimney scrooge]    "
     ]
    },
    {
     "name": "stdout",
     "output_type": "stream",
     "text": [
      "2001.3205166651069\n",
      "advent elf chimney scrooge reindeer mistletoe gingerbread family fireplace ornament\n"
     ]
    },
    {
     "name": "stderr",
     "output_type": "stream",
     "text": [
      "50176it [06:13, 134.94it/s, ppls_temp_best=4.11e+3, words_head=advent elf family scrooge]    "
     ]
    },
    {
     "name": "stdout",
     "output_type": "stream",
     "text": [
      "1947.3383101792642\n",
      "advent elf family scrooge mistletoe reindeer gingerbread chimney fireplace ornament\n"
     ]
    },
    {
     "name": "stderr",
     "output_type": "stream",
     "text": [
      "50384it [06:15, 133.09it/s, ppls_temp_best=2.16e+3, words_head=advent elf family scrooge]"
     ]
    },
    {
     "name": "stdout",
     "output_type": "stream",
     "text": [
      "1850.9189047029658\n",
      "advent elf family scrooge reindeer mistletoe gingerbread chimney fireplace ornament\n"
     ]
    },
    {
     "name": "stderr",
     "output_type": "stream",
     "text": [
      "61552it [07:38, 135.14it/s, ppls_temp_best=1.67e+3, words_head=advent elf mistletoe family]     "
     ]
    },
    {
     "name": "stdout",
     "output_type": "stream",
     "text": [
      "1685.2808408062344\n",
      "advent elf mistletoe family gingerbread reindeer scrooge chimney fireplace ornament\n",
      "1665.646724298566\n",
      "advent elf mistletoe family gingerbread scrooge chimney fireplace reindeer ornament\n"
     ]
    },
    {
     "name": "stderr",
     "output_type": "stream",
     "text": [
      "61808it [07:40, 133.51it/s, ppls_temp_best=1.55e+3, words_head=advent elf mistletoe family]"
     ]
    },
    {
     "name": "stdout",
     "output_type": "stream",
     "text": [
      "1583.1748363626543\n",
      "advent elf mistletoe family reindeer scrooge gingerbread chimney fireplace ornament\n",
      "1552.5534631091762\n",
      "advent elf mistletoe family scrooge chimney fireplace reindeer gingerbread ornament\n"
     ]
    },
    {
     "name": "stderr",
     "output_type": "stream",
     "text": [
      "61872it [07:40, 134.32it/s, ppls_temp_best=1.58e+3, words_head=advent elf mistletoe family]"
     ]
    },
    {
     "name": "stdout",
     "output_type": "stream",
     "text": [
      "1528.4833526913917\n",
      "advent elf mistletoe family scrooge gingerbread chimney fireplace reindeer ornament\n"
     ]
    },
    {
     "name": "stderr",
     "output_type": "stream",
     "text": [
      "61936it [07:41, 135.10it/s, ppls_temp_best=2.86e+3, words_head=advent elf mistletoe fireplace]"
     ]
    },
    {
     "name": "stdout",
     "output_type": "stream",
     "text": [
      "1402.6151676542092\n",
      "advent elf mistletoe family scrooge reindeer gingerbread chimney fireplace ornament\n"
     ]
    },
    {
     "name": "stderr",
     "output_type": "stream",
     "text": [
      "64512it [08:00, 133.54it/s, ppls_temp_best=1.9e+3, words_head=advent elf mistletoe reindeer]    "
     ]
    },
    {
     "name": "stdout",
     "output_type": "stream",
     "text": [
      "1252.3943774226225\n",
      "advent elf mistletoe reindeer gingerbread family scrooge chimney fireplace ornament\n"
     ]
    },
    {
     "name": "stderr",
     "output_type": "stream",
     "text": [
      "65232it [08:05, 133.86it/s, ppls_temp_best=1.64e+3, words_head=advent elf mistletoe scrooge] "
     ]
    },
    {
     "name": "stdout",
     "output_type": "stream",
     "text": [
      "1247.5117544673494\n",
      "advent elf mistletoe scrooge gingerbread family reindeer chimney fireplace ornament\n"
     ]
    },
    {
     "name": "stderr",
     "output_type": "stream",
     "text": [
      "65504it [08:07, 134.47it/s, ppls_temp_best=1.32e+3, words_head=advent elf mistletoe scrooge]"
     ]
    },
    {
     "name": "stdout",
     "output_type": "stream",
     "text": [
      "1181.120389956714\n",
      "advent elf mistletoe scrooge reindeer gingerbread chimney fireplace ornament family\n"
     ]
    },
    {
     "name": "stderr",
     "output_type": "stream",
     "text": [
      "352304it [43:44, 133.91it/s, ppls_temp_best=1.23e+3, words_head=advent scrooge mistletoe reindeer]     "
     ]
    },
    {
     "name": "stdout",
     "output_type": "stream",
     "text": [
      "1131.4440316534813\n",
      "advent scrooge mistletoe reindeer elf gingerbread chimney fireplace ornament family\n"
     ]
    },
    {
     "name": "stderr",
     "output_type": "stream",
     "text": [
      "715184it [1:29:13, 134.77it/s, ppls_temp_best=1.11e+3, words_head=chimney scrooge mistletoe reindeer]     "
     ]
    },
    {
     "name": "stdout",
     "output_type": "stream",
     "text": [
      "1067.053349944732\n",
      "chimney scrooge mistletoe reindeer elf gingerbread family advent fireplace ornament\n"
     ]
    },
    {
     "name": "stderr",
     "output_type": "stream",
     "text": [
      "1829568it [3:47:01, 133.85it/s, ppls_temp_best=1.63e+3, words_head=gingerbread advent fireplace chimney]    "
     ]
    },
    {
     "name": "stdout",
     "output_type": "stream",
     "text": [
      "1018.1894194620162\n",
      "gingerbread advent fireplace chimney elf family scrooge reindeer mistletoe ornament\n"
     ]
    },
    {
     "name": "stderr",
     "output_type": "stream",
     "text": [
      "1853216it [3:49:59, 134.20it/s, ppls_temp_best=1.09e+3, words_head=gingerbread advent scrooge mistletoe]  "
     ]
    },
    {
     "name": "stdout",
     "output_type": "stream",
     "text": [
      "1010.265806536996\n",
      "gingerbread advent scrooge mistletoe reindeer elf chimney fireplace ornament family\n"
     ]
    },
    {
     "name": "stderr",
     "output_type": "stream",
     "text": [
      "1899616it [3:55:47, 133.35it/s, ppls_temp_best=1.69e+3, words_head=gingerbread elf advent scrooge]         "
     ]
    },
    {
     "name": "stdout",
     "output_type": "stream",
     "text": [
      "949.0568955746459\n",
      "gingerbread elf advent scrooge family reindeer mistletoe chimney fireplace ornament\n"
     ]
    },
    {
     "name": "stderr",
     "output_type": "stream",
     "text": [
      "1904656it [3:56:25, 133.22it/s, ppls_temp_best=1.42e+3, words_head=gingerbread elf chimney scrooge]  "
     ]
    },
    {
     "name": "stdout",
     "output_type": "stream",
     "text": [
      "905.5964161413509\n",
      "gingerbread elf chimney scrooge family reindeer mistletoe advent fireplace ornament\n"
     ]
    },
    {
     "name": "stderr",
     "output_type": "stream",
     "text": [
      "1932480it [3:59:53, 133.33it/s, ppls_temp_best=1.32e+3, words_head=gingerbread elf scrooge family]     "
     ]
    },
    {
     "name": "stdout",
     "output_type": "stream",
     "text": [
      "902.06583030563\n",
      "gingerbread elf scrooge family reindeer mistletoe ornament advent fireplace chimney\n"
     ]
    },
    {
     "name": "stderr",
     "output_type": "stream",
     "text": [
      "1936848it [4:00:26, 134.03it/s, ppls_temp_best=1.38e+3, words_head=gingerbread family advent fireplace]"
     ]
    },
    {
     "name": "stdout",
     "output_type": "stream",
     "text": [
      "831.021984515923\n",
      "gingerbread family advent fireplace chimney elf scrooge reindeer mistletoe ornament\n"
     ]
    },
    {
     "name": "stderr",
     "output_type": "stream",
     "text": [
      "1960832it [4:03:26, 132.99it/s, ppls_temp_best=1.06e+3, words_head=gingerbread family ornament advent]    "
     ]
    },
    {
     "name": "stdout",
     "output_type": "stream",
     "text": [
      "824.5549201253252\n",
      "gingerbread family ornament advent fireplace chimney elf scrooge reindeer mistletoe\n"
     ]
    },
    {
     "name": "stderr",
     "output_type": "stream",
     "text": [
      "2031744it [4:12:17, 133.73it/s, ppls_temp_best=805, words_head=gingerbread mistletoe family advent]         "
     ]
    },
    {
     "name": "stdout",
     "output_type": "stream",
     "text": [
      "768.5696961361268\n",
      "gingerbread mistletoe family advent scrooge chimney elf reindeer fireplace ornament\n"
     ]
    },
    {
     "name": "stderr",
     "output_type": "stream",
     "text": [
      "2031840it [4:12:17, 132.64it/s, ppls_temp_best=861, words_head=gingerbread mistletoe family advent]    "
     ]
    },
    {
     "name": "stdout",
     "output_type": "stream",
     "text": [
      "765.5733268544279\n",
      "gingerbread mistletoe family advent scrooge reindeer elf chimney fireplace ornament\n"
     ]
    },
    {
     "name": "stderr",
     "output_type": "stream",
     "text": [
      "2996576it [6:12:17, 132.47it/s, ppls_temp_best=888, words_head=reindeer elf family gingerbread]             "
     ]
    },
    {
     "name": "stdout",
     "output_type": "stream",
     "text": [
      "753.7042125545613\n",
      "reindeer elf family gingerbread scrooge chimney fireplace mistletoe ornament advent\n"
     ]
    },
    {
     "name": "stderr",
     "output_type": "stream",
     "text": [
      "3004720it [6:13:18, 131.90it/s, ppls_temp_best=821, words_head=reindeer elf gingerbread chimney]      "
     ]
    },
    {
     "name": "stdout",
     "output_type": "stream",
     "text": [
      "750.765798300995\n",
      "reindeer elf gingerbread chimney family advent scrooge mistletoe fireplace ornament\n"
     ]
    },
    {
     "name": "stderr",
     "output_type": "stream",
     "text": [
      "3004848it [6:13:19, 134.22it/s, ppls_temp_best=760, words_head=reindeer elf gingerbread chimney]    "
     ]
    },
    {
     "name": "stdout",
     "output_type": "stream",
     "text": [
      "724.8302576041393\n",
      "reindeer elf gingerbread chimney fireplace family advent scrooge mistletoe ornament\n"
     ]
    },
    {
     "name": "stderr",
     "output_type": "stream",
     "text": [
      "3005408it [6:13:23, 134.53it/s, ppls_temp_best=681, words_head=reindeer elf gingerbread family]     "
     ]
    },
    {
     "name": "stdout",
     "output_type": "stream",
     "text": [
      "580.1468435322063\n",
      "reindeer elf gingerbread family advent scrooge chimney fireplace mistletoe ornament\n"
     ]
    },
    {
     "name": "stderr",
     "output_type": "stream",
     "text": [
      "3155744it [6:32:06, 136.81it/s, ppls_temp_best=596, words_head=reindeer mistletoe elf advent]               "
     ]
    },
    {
     "name": "stdout",
     "output_type": "stream",
     "text": [
      "560.1054110313753\n",
      "reindeer mistletoe elf advent scrooge gingerbread chimney fireplace ornament family\n"
     ]
    },
    {
     "name": "stderr",
     "output_type": "stream",
     "text": [
      "3156608it [6:32:12, 137.37it/s, ppls_temp_best=585, words_head=reindeer mistletoe elf family] "
     ]
    },
    {
     "name": "stdout",
     "output_type": "stream",
     "text": [
      "544.9975231641602\n",
      "reindeer mistletoe elf family advent scrooge gingerbread chimney fireplace ornament\n"
     ]
    },
    {
     "name": "stderr",
     "output_type": "stream",
     "text": [
      "3158048it [6:32:23, 136.99it/s, ppls_temp_best=603, words_head=reindeer mistletoe elf gingerbread]  "
     ]
    },
    {
     "name": "stdout",
     "output_type": "stream",
     "text": [
      "538.6481096972173\n",
      "reindeer mistletoe elf gingerbread advent scrooge chimney fireplace ornament family\n"
     ]
    },
    {
     "name": "stderr",
     "output_type": "stream",
     "text": [
      "3158208it [6:32:24, 137.65it/s, ppls_temp_best=647, words_head=reindeer mistletoe elf gingerbread]"
     ]
    },
    {
     "name": "stdout",
     "output_type": "stream",
     "text": [
      "467.98558773246197\n",
      "reindeer mistletoe elf gingerbread family advent scrooge chimney fireplace ornament\n"
     ]
    },
    {
     "name": "stderr",
     "output_type": "stream",
     "text": [
      "3628800it [7:30:27, 134.26it/s, ppls_temp_best=2.7e+3, words_head=scrooge reindeer ornament mistletoe]      \n"
     ]
    }
   ],
   "source": [
    "import itertools\n",
    "words = txt.split()\n",
    "words.sort()\n",
    "ppls = []\n",
    "txts = []\n",
    "ppls_best = 10000\n",
    "txts_best = \"\"\n",
    "txts_temp = []\n",
    "pbar = tqdm(itertools.permutations(words))\n",
    "for perm in pbar:\n",
    "    txts_temp.append(\" \".join(perm))\n",
    "    if len(txts_temp) == 16:\n",
    "        ppls_temp = scorer.get_perplexity(txts_temp)\n",
    "        ppls.extend(ppls_temp)\n",
    "        txts.extend(txts_temp)\n",
    "        idx_min = np.argmin(ppls_temp)\n",
    "        ppls_temp_best = ppls_temp[idx_min]\n",
    "        if ppls_temp_best < ppls_best:\n",
    "            ppls_best = ppls_temp_best\n",
    "            txts_best = txts_temp[idx_min]\n",
    "            print(ppls_best)\n",
    "            print(txts_best)\n",
    "        pbar.set_postfix(ppls_temp_best=ppls_temp_best, words_head=\" \".join(perm[:4]))\n",
    "        txts_temp = []\n"
   ]
  },
  {
   "cell_type": "code",
   "execution_count": 30,
   "metadata": {},
   "outputs": [],
   "source": [
    "pd.to_pickle(ppls, \"ppls.pkl\")\n",
    "pd.to_pickle(txts, \"txts.pkl\")"
   ]
  },
  {
   "cell_type": "code",
   "execution_count": 32,
   "metadata": {},
   "outputs": [],
   "source": [
    "df = pd.DataFrame({\"perplexity\": ppls, \"text\": txts})\n",
    "df.to_parquet(\"0000_perplexity.parquet\", index=False)"
   ]
  },
  {
   "cell_type": "code",
   "execution_count": 33,
   "metadata": {},
   "outputs": [
    {
     "data": {
      "text/html": [
       "<div>\n",
       "<style scoped>\n",
       "    .dataframe tbody tr th:only-of-type {\n",
       "        vertical-align: middle;\n",
       "    }\n",
       "\n",
       "    .dataframe tbody tr th {\n",
       "        vertical-align: top;\n",
       "    }\n",
       "\n",
       "    .dataframe thead th {\n",
       "        text-align: right;\n",
       "    }\n",
       "</style>\n",
       "<table border=\"1\" class=\"dataframe\">\n",
       "  <thead>\n",
       "    <tr style=\"text-align: right;\">\n",
       "      <th></th>\n",
       "      <th>perplexity</th>\n",
       "      <th>text</th>\n",
       "    </tr>\n",
       "  </thead>\n",
       "  <tbody>\n",
       "    <tr>\n",
       "      <th>0</th>\n",
       "      <td>3887.902157</td>\n",
       "      <td>advent chimney elf family fireplace gingerbrea...</td>\n",
       "    </tr>\n",
       "    <tr>\n",
       "      <th>1</th>\n",
       "      <td>4581.068285</td>\n",
       "      <td>advent chimney elf family fireplace gingerbrea...</td>\n",
       "    </tr>\n",
       "    <tr>\n",
       "      <th>2</th>\n",
       "      <td>4042.778572</td>\n",
       "      <td>advent chimney elf family fireplace gingerbrea...</td>\n",
       "    </tr>\n",
       "    <tr>\n",
       "      <th>3</th>\n",
       "      <td>4106.443071</td>\n",
       "      <td>advent chimney elf family fireplace gingerbrea...</td>\n",
       "    </tr>\n",
       "    <tr>\n",
       "      <th>4</th>\n",
       "      <td>4838.572412</td>\n",
       "      <td>advent chimney elf family fireplace gingerbrea...</td>\n",
       "    </tr>\n",
       "    <tr>\n",
       "      <th>...</th>\n",
       "      <td>...</td>\n",
       "      <td>...</td>\n",
       "    </tr>\n",
       "    <tr>\n",
       "      <th>3628795</th>\n",
       "      <td>3539.975198</td>\n",
       "      <td>scrooge reindeer ornament mistletoe gingerbrea...</td>\n",
       "    </tr>\n",
       "    <tr>\n",
       "      <th>3628796</th>\n",
       "      <td>3949.127708</td>\n",
       "      <td>scrooge reindeer ornament mistletoe gingerbrea...</td>\n",
       "    </tr>\n",
       "    <tr>\n",
       "      <th>3628797</th>\n",
       "      <td>3539.975198</td>\n",
       "      <td>scrooge reindeer ornament mistletoe gingerbrea...</td>\n",
       "    </tr>\n",
       "    <tr>\n",
       "      <th>3628798</th>\n",
       "      <td>3512.426893</td>\n",
       "      <td>scrooge reindeer ornament mistletoe gingerbrea...</td>\n",
       "    </tr>\n",
       "    <tr>\n",
       "      <th>3628799</th>\n",
       "      <td>3377.867932</td>\n",
       "      <td>scrooge reindeer ornament mistletoe gingerbrea...</td>\n",
       "    </tr>\n",
       "  </tbody>\n",
       "</table>\n",
       "<p>3628800 rows × 2 columns</p>\n",
       "</div>"
      ],
      "text/plain": [
       "          perplexity                                               text\n",
       "0        3887.902157  advent chimney elf family fireplace gingerbrea...\n",
       "1        4581.068285  advent chimney elf family fireplace gingerbrea...\n",
       "2        4042.778572  advent chimney elf family fireplace gingerbrea...\n",
       "3        4106.443071  advent chimney elf family fireplace gingerbrea...\n",
       "4        4838.572412  advent chimney elf family fireplace gingerbrea...\n",
       "...              ...                                                ...\n",
       "3628795  3539.975198  scrooge reindeer ornament mistletoe gingerbrea...\n",
       "3628796  3949.127708  scrooge reindeer ornament mistletoe gingerbrea...\n",
       "3628797  3539.975198  scrooge reindeer ornament mistletoe gingerbrea...\n",
       "3628798  3512.426893  scrooge reindeer ornament mistletoe gingerbrea...\n",
       "3628799  3377.867932  scrooge reindeer ornament mistletoe gingerbrea...\n",
       "\n",
       "[3628800 rows x 2 columns]"
      ]
     },
     "execution_count": 33,
     "metadata": {},
     "output_type": "execute_result"
    }
   ],
   "source": [
    "df"
   ]
  },
  {
   "cell_type": "code",
   "execution_count": 34,
   "metadata": {},
   "outputs": [
    {
     "data": {
      "text/html": [
       "<div>\n",
       "<style scoped>\n",
       "    .dataframe tbody tr th:only-of-type {\n",
       "        vertical-align: middle;\n",
       "    }\n",
       "\n",
       "    .dataframe tbody tr th {\n",
       "        vertical-align: top;\n",
       "    }\n",
       "\n",
       "    .dataframe thead th {\n",
       "        text-align: right;\n",
       "    }\n",
       "</style>\n",
       "<table border=\"1\" class=\"dataframe\">\n",
       "  <thead>\n",
       "    <tr style=\"text-align: right;\">\n",
       "      <th></th>\n",
       "      <th>perplexity</th>\n",
       "      <th>text</th>\n",
       "    </tr>\n",
       "  </thead>\n",
       "  <tbody>\n",
       "    <tr>\n",
       "      <th>3158178</th>\n",
       "      <td>467.985588</td>\n",
       "      <td>reindeer mistletoe elf gingerbread family adve...</td>\n",
       "    </tr>\n",
       "    <tr>\n",
       "      <th>3158452</th>\n",
       "      <td>484.730831</td>\n",
       "      <td>reindeer mistletoe elf gingerbread ornament fa...</td>\n",
       "    </tr>\n",
       "    <tr>\n",
       "      <th>3159881</th>\n",
       "      <td>496.225892</td>\n",
       "      <td>reindeer mistletoe elf scrooge gingerbread chi...</td>\n",
       "    </tr>\n",
       "    <tr>\n",
       "      <th>3158265</th>\n",
       "      <td>504.040313</td>\n",
       "      <td>reindeer mistletoe elf gingerbread family scro...</td>\n",
       "    </tr>\n",
       "    <tr>\n",
       "      <th>3159880</th>\n",
       "      <td>506.013071</td>\n",
       "      <td>reindeer mistletoe elf scrooge gingerbread chi...</td>\n",
       "    </tr>\n",
       "    <tr>\n",
       "      <th>...</th>\n",
       "      <td>...</td>\n",
       "      <td>...</td>\n",
       "    </tr>\n",
       "    <tr>\n",
       "      <th>2303341</th>\n",
       "      <td>33586.349550</td>\n",
       "      <td>mistletoe family chimney advent elf ornament r...</td>\n",
       "    </tr>\n",
       "    <tr>\n",
       "      <th>2303853</th>\n",
       "      <td>33849.770554</td>\n",
       "      <td>mistletoe family chimney advent reindeer ornam...</td>\n",
       "    </tr>\n",
       "    <tr>\n",
       "      <th>2303340</th>\n",
       "      <td>34382.826876</td>\n",
       "      <td>mistletoe family chimney advent elf ornament r...</td>\n",
       "    </tr>\n",
       "    <tr>\n",
       "      <th>2303346</th>\n",
       "      <td>36032.893190</td>\n",
       "      <td>mistletoe family chimney advent elf ornament s...</td>\n",
       "    </tr>\n",
       "    <tr>\n",
       "      <th>2303344</th>\n",
       "      <td>37762.147840</td>\n",
       "      <td>mistletoe family chimney advent elf ornament r...</td>\n",
       "    </tr>\n",
       "  </tbody>\n",
       "</table>\n",
       "<p>3628800 rows × 2 columns</p>\n",
       "</div>"
      ],
      "text/plain": [
       "           perplexity                                               text\n",
       "3158178    467.985588  reindeer mistletoe elf gingerbread family adve...\n",
       "3158452    484.730831  reindeer mistletoe elf gingerbread ornament fa...\n",
       "3159881    496.225892  reindeer mistletoe elf scrooge gingerbread chi...\n",
       "3158265    504.040313  reindeer mistletoe elf gingerbread family scro...\n",
       "3159880    506.013071  reindeer mistletoe elf scrooge gingerbread chi...\n",
       "...               ...                                                ...\n",
       "2303341  33586.349550  mistletoe family chimney advent elf ornament r...\n",
       "2303853  33849.770554  mistletoe family chimney advent reindeer ornam...\n",
       "2303340  34382.826876  mistletoe family chimney advent elf ornament r...\n",
       "2303346  36032.893190  mistletoe family chimney advent elf ornament s...\n",
       "2303344  37762.147840  mistletoe family chimney advent elf ornament r...\n",
       "\n",
       "[3628800 rows x 2 columns]"
      ]
     },
     "execution_count": 34,
     "metadata": {},
     "output_type": "execute_result"
    }
   ],
   "source": [
    "df.sort_values(\"perplexity\", ascending=True)"
   ]
  },
  {
   "cell_type": "code",
   "execution_count": 35,
   "metadata": {},
   "outputs": [],
   "source": [
    "df.to_csv(\"0000_perplexity.csv.gz\", index=False, compression=\"gzip\")"
   ]
  },
  {
   "cell_type": "code",
   "execution_count": null,
   "metadata": {},
   "outputs": [],
   "source": [
    "import numpy as np"
   ]
  },
  {
   "cell_type": "code",
   "execution_count": null,
   "metadata": {},
   "outputs": [],
   "source": [
    "idx_min = np.argmin(ppls)\n",
    "print(ppls[idx_min])\n",
    "print(txts[idx_min])"
   ]
  },
  {
   "cell_type": "code",
   "execution_count": null,
   "metadata": {},
   "outputs": [],
   "source": []
  }
 ],
 "metadata": {
  "kernelspec": {
   "display_name": ".venv",
   "language": "python",
   "name": "python3"
  },
  "language_info": {
   "codemirror_mode": {
    "name": "ipython",
    "version": 3
   },
   "file_extension": ".py",
   "mimetype": "text/x-python",
   "name": "python",
   "nbconvert_exporter": "python",
   "pygments_lexer": "ipython3",
   "version": "3.12.7"
  }
 },
 "nbformat": 4,
 "nbformat_minor": 2
}
