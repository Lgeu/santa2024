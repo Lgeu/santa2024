{
 "cells": [
  {
   "cell_type": "code",
   "execution_count": 8,
   "metadata": {},
   "outputs": [],
   "source": [
    "import pandas as pd\n",
    "import numpy as np\n",
    "import sys\n",
    "\n",
    "sys.path.append(\"../\")\n",
    "from evaluation import PerplexityCalculator\n",
    "from util import save_text\n",
    "path_model = \"/home/task/.cache/kagglehub/models/google/gemma-2/transformers/gemma-2-9b/2\"\n",
    "path_input = \"../input/santa-2024/sample_submission.csv\"\n",
    "df_sample = pd.read_csv(path_input)"
   ]
  },
  {
   "cell_type": "code",
   "execution_count": 2,
   "metadata": {},
   "outputs": [],
   "source": [
    "# text = \"sleigh of holiday cheer unwrap gifts relax eat yuletide cheer sing carol the magi visit workshop grinch is naughty and nice decorations ornament chimney stocking nutcracker polar beard holly jingle\"\n",
    "text = \"magi yuletide cheer grinch carol holiday holly jingle naughty nice nutcracker polar beard ornament stocking chimney sleigh workshop gifts decorations\""
   ]
  },
  {
   "cell_type": "code",
   "execution_count": 3,
   "metadata": {},
   "outputs": [
    {
     "data": {
      "application/vnd.jupyter.widget-view+json": {
       "model_id": "0d79bdc7139f4a38aafe7e451712f169",
       "version_major": 2,
       "version_minor": 0
      },
      "text/plain": [
       "Loading checkpoint shards:   0%|          | 0/8 [00:00<?, ?it/s]"
      ]
     },
     "metadata": {},
     "output_type": "display_data"
    }
   ],
   "source": [
    "scorer = PerplexityCalculator(model_path=str(path_model))"
   ]
  },
  {
   "cell_type": "code",
   "execution_count": 5,
   "metadata": {},
   "outputs": [
    {
     "data": {
      "text/plain": [
       "302.15420510895507"
      ]
     },
     "execution_count": 5,
     "metadata": {},
     "output_type": "execute_result"
    }
   ],
   "source": [
    "scorer.get_perplexity(text)"
   ]
  },
  {
   "cell_type": "code",
   "execution_count": 6,
   "metadata": {},
   "outputs": [
    {
     "data": {
      "text/plain": [
       "20"
      ]
     },
     "execution_count": 6,
     "metadata": {},
     "output_type": "execute_result"
    }
   ],
   "source": [
    "words = text.split()\n",
    "len(words)"
   ]
  },
  {
   "cell_type": "code",
   "execution_count": 9,
   "metadata": {},
   "outputs": [],
   "source": [
    "import copy\n",
    "import random\n",
    "import tqdm"
   ]
  },
  {
   "cell_type": "code",
   "execution_count": 10,
   "metadata": {},
   "outputs": [],
   "source": [
    "def make_neighbor_1(words_input: list[str]) -> list[str]:\n",
    "    \"\"\"ランダムに単語を選んでランダムな箇所に挿入\"\"\"\n",
    "    words = words_input.copy()\n",
    "    idx = random.randint(0, len(words) - 1)\n",
    "    word = words.pop(idx)\n",
    "    idx_insert = random.randint(0, len(words))\n",
    "    words.insert(idx_insert, word)\n",
    "    return words\n",
    "\n",
    "\n",
    "def make_neighbor_2(words_input: list[str]) -> list[str]:\n",
    "    \"\"\"ランダムに単語の列を選んでランダムな箇所に挿入\"\"\"\n",
    "    words = words_input.copy()\n",
    "    idx1 = random.randint(0, len(words))\n",
    "    idx2 = random.randint(0, len(words))\n",
    "    if idx1 == idx2:\n",
    "        return None\n",
    "    if idx1 > idx2:\n",
    "        idx1, idx2 = idx2, idx1\n",
    "    words_mid = words[idx1:idx2]\n",
    "    words_rest = words[:idx1] + words[idx2:]\n",
    "    idx_insert = random.randint(0, len(words_rest))\n",
    "    words_new = words_rest[:idx_insert] + words_mid + words_rest[idx_insert:]\n",
    "    return words_new\n",
    "\n",
    "\n",
    "def make_neighbor_3(words_input: list[str]) -> list[str]:\n",
    "    \"\"\"ランダムに単語の列を選んで先頭か末尾に移動\"\"\"\n",
    "    words = words_input.copy()\n",
    "    idx1 = random.randint(1, len(words))\n",
    "    idx2 = random.randint(1, len(words))\n",
    "    if idx1 == idx2:\n",
    "        return None\n",
    "    if idx1 > idx2:\n",
    "        idx1, idx2 = idx2, idx1\n",
    "    words1 = words[:idx1]\n",
    "    words2 = words[idx1:idx2]\n",
    "    words3 = words[idx2:]\n",
    "    coin = random.randint(1, 2)\n",
    "    if coin == 1:\n",
    "        words_new = words1 + words3 + words2\n",
    "    else:\n",
    "        words_new = words2 + words1 + words3\n",
    "    return words_new\n",
    "\n",
    "\n",
    "def make_neighbor_4(words_input: list[str]) -> list[str]:\n",
    "    \"\"\"Rotate\"\"\"\n",
    "    words = words_input.copy()\n",
    "    idx = random.randint(1, len(words) - 1)\n",
    "    words_new = words[idx:] + words[:idx]\n",
    "    return words_new\n",
    "\n",
    "\n",
    "def make_neighbor_5(words_input: list[str]) -> list[str]:\n",
    "    \"\"\"隣接した単語を入れ替える\"\"\"\n",
    "    words = words_input.copy()\n",
    "    idx = random.randint(0, len(words) - 2)\n",
    "    words[idx], words[idx + 1] = words[idx + 1], words[idx]\n",
    "    return words\n",
    "\n",
    "\n",
    "def make_neighbor_6(words_input: list[str]) -> list[str]:\n",
    "    \"\"\"区間を反転する\"\"\"\n",
    "    words = words_input.copy()\n",
    "    idx1 = random.randint(0, len(words))\n",
    "    idx2 = (idx1 + random.randint(2, len(words) - 2)) % len(words)\n",
    "    if idx1 > idx2:\n",
    "        idx1, idx2 = idx2, idx1\n",
    "    words[idx1:idx2] = words[idx1:idx2][::-1]\n",
    "    return words\n",
    "\n",
    "\n",
    "def make_neighbor_7(words_input: list[str]) -> list[str]:\n",
    "    \"\"\"ランダムな 2 単語を入れ替える\"\"\"\n",
    "    words = words_input.copy()\n",
    "    idx1 = random.randint(0, len(words) - 1)\n",
    "    idx2 = (idx1 + random.randint(1, len(words) - 1)) % len(words)\n",
    "    words[idx1], words[idx2] = words[idx2], words[idx1]\n",
    "    return words\n",
    "\n",
    "neighbor_prob = {\n",
    "            1: 10.0,\n",
    "            2: 5.0,\n",
    "            3: 5.0,\n",
    "            4: 1.0,\n",
    "            5: 5.0,\n",
    "            6: 1.0,\n",
    "            7: 1.0,\n",
    "        }\n",
    "\n",
    "prob_total = sum(neighbor_prob.values())\n",
    "for key in neighbor_prob:\n",
    "    neighbor_prob[key] = neighbor_prob[key] / prob_total\n",
    "\n",
    "def make_neighbor(\n",
    "    words_input: list[str], neighbor_prob: dict[int, float] = neighbor_prob\n",
    ") -> tuple[list[str], int]:\n",
    "    \"\"\"ランダムに操作を行う\"\"\"\n",
    "    words_return = None\n",
    "    while words_return is None:\n",
    "        coin = int(\n",
    "            np.random.choice(list(neighbor_prob.keys()), p=list(neighbor_prob.values()))\n",
    "        )\n",
    "        if coin == 1:\n",
    "            words_return = make_neighbor_1(words_input)\n",
    "        elif coin == 2:\n",
    "            words_return = make_neighbor_2(words_input)\n",
    "        elif coin == 3:\n",
    "            words_return = make_neighbor_3(words_input)\n",
    "        elif coin == 4:\n",
    "            words_return = make_neighbor_4(words_input)\n",
    "        elif coin == 5:\n",
    "            words_return = make_neighbor_5(words_input)\n",
    "        elif coin == 6:\n",
    "            words_return = make_neighbor_6(words_input)\n",
    "        elif coin == 7:\n",
    "            words_return = make_neighbor_7(words_input)\n",
    "        else:\n",
    "            raise ValueError(\"Invalid neighbor function coin\")\n",
    "        if words_return == words_input:\n",
    "            words_return = None\n",
    "    assert sorted(words_input) == sorted(words_return)\n",
    "    return words_return, coin"
   ]
  },
  {
   "cell_type": "code",
   "execution_count": 244,
   "metadata": {},
   "outputs": [],
   "source": [
    "# create some initial solutions\n",
    "n_words = len(words)\n",
    "n_pop = 100\n",
    "pop = []\n",
    "for _ in range(n_pop):\n",
    "    random.shuffle(words)\n",
    "    pop.append(copy.deepcopy(words))"
   ]
  },
  {
   "cell_type": "code",
   "execution_count": 245,
   "metadata": {},
   "outputs": [
    {
     "data": {
      "text/plain": [
       "20"
      ]
     },
     "execution_count": 245,
     "metadata": {},
     "output_type": "execute_result"
    }
   ],
   "source": [
    "len(words)"
   ]
  },
  {
   "cell_type": "code",
   "execution_count": 246,
   "metadata": {},
   "outputs": [
    {
     "name": "stderr",
     "output_type": "stream",
     "text": [
      "100%|██████████| 100/100 [01:50<00:00,  1.11s/it, score=455]  \n",
      "100%|██████████| 100/100 [01:50<00:00,  1.10s/it, score=423]  \n",
      "100%|██████████| 100/100 [01:50<00:00,  1.10s/it, score=372]  \n",
      "100%|██████████| 100/100 [01:51<00:00,  1.11s/it, score=363]  \n",
      "100%|██████████| 100/100 [01:51<00:00,  1.11s/it, score=366]  \n",
      "100%|██████████| 100/100 [01:50<00:00,  1.10s/it, score=337]  \n",
      "100%|██████████| 100/100 [01:49<00:00,  1.10s/it, score=378]  \n",
      "100%|██████████| 100/100 [01:49<00:00,  1.10s/it, score=400]  \n",
      "100%|██████████| 100/100 [01:49<00:00,  1.10s/it, score=445]  \n",
      "100%|██████████| 100/100 [01:50<00:00,  1.11s/it, score=351]  \n",
      "100%|██████████| 100/100 [01:49<00:00,  1.10s/it, score=362]  \n",
      "100%|██████████| 100/100 [01:50<00:00,  1.10s/it, score=369]  \n",
      "100%|██████████| 100/100 [01:49<00:00,  1.10s/it, score=397]  \n",
      "100%|██████████| 100/100 [01:49<00:00,  1.10s/it, score=362]  \n",
      "100%|██████████| 100/100 [01:49<00:00,  1.10s/it, score=389]  \n",
      "100%|██████████| 100/100 [01:49<00:00,  1.10s/it, score=357]  \n",
      "100%|██████████| 100/100 [01:50<00:00,  1.10s/it, score=344]  \n",
      "100%|██████████| 100/100 [01:49<00:00,  1.10s/it, score=419]  \n",
      "100%|██████████| 100/100 [01:49<00:00,  1.10s/it, score=327]  \n",
      "100%|██████████| 100/100 [01:49<00:00,  1.10s/it, score=337]  \n",
      "100%|██████████| 100/100 [01:49<00:00,  1.10s/it, score=388]  \n",
      "100%|██████████| 100/100 [01:49<00:00,  1.10s/it, score=380]\n",
      "100%|██████████| 100/100 [01:49<00:00,  1.10s/it, score=323]  \n",
      "100%|██████████| 100/100 [01:49<00:00,  1.10s/it, score=385]  \n",
      "100%|██████████| 100/100 [01:49<00:00,  1.10s/it, score=340]  \n",
      "100%|██████████| 100/100 [01:49<00:00,  1.10s/it, score=407]  \n",
      "100%|██████████| 100/100 [01:49<00:00,  1.10s/it, score=394]  \n",
      "100%|██████████| 100/100 [01:49<00:00,  1.10s/it, score=376]  \n",
      "100%|██████████| 100/100 [01:49<00:00,  1.10s/it, score=342]  \n",
      "100%|██████████| 100/100 [01:49<00:00,  1.10s/it, score=357]  \n",
      "100%|██████████| 100/100 [01:50<00:00,  1.10s/it, score=341]  \n",
      "100%|██████████| 100/100 [01:50<00:00,  1.10s/it, score=396]  \n",
      "100%|██████████| 100/100 [01:49<00:00,  1.10s/it, score=369]  \n",
      "100%|██████████| 100/100 [01:50<00:00,  1.10s/it, score=413]  \n",
      "100%|██████████| 100/100 [01:49<00:00,  1.10s/it, score=332]  \n",
      "100%|██████████| 100/100 [01:49<00:00,  1.10s/it, score=389]  \n",
      "100%|██████████| 100/100 [01:49<00:00,  1.09s/it, score=369]  \n",
      "100%|██████████| 100/100 [01:49<00:00,  1.09s/it, score=348]  \n",
      "100%|██████████| 100/100 [01:49<00:00,  1.09s/it, score=334]  \n",
      "100%|██████████| 100/100 [01:49<00:00,  1.10s/it, score=342]  \n",
      "100%|██████████| 100/100 [01:49<00:00,  1.09s/it, score=369]  \n",
      "100%|██████████| 100/100 [01:49<00:00,  1.09s/it, score=393]  \n",
      "100%|██████████| 100/100 [01:49<00:00,  1.09s/it, score=333]  \n",
      "100%|██████████| 100/100 [01:49<00:00,  1.10s/it, score=346]  \n",
      "100%|██████████| 100/100 [01:50<00:00,  1.10s/it, score=364]  \n",
      "100%|██████████| 100/100 [01:49<00:00,  1.10s/it, score=333]  \n",
      "100%|██████████| 100/100 [01:49<00:00,  1.10s/it, score=319]\n",
      "100%|██████████| 100/100 [01:50<00:00,  1.10s/it, score=325]  \n",
      "100%|██████████| 100/100 [01:49<00:00,  1.10s/it, score=402]  \n",
      "100%|██████████| 100/100 [01:49<00:00,  1.10s/it, score=319]  \n",
      "100%|██████████| 100/100 [01:49<00:00,  1.10s/it, score=369]  \n",
      "100%|██████████| 100/100 [01:49<00:00,  1.10s/it, score=363]\n",
      "100%|██████████| 100/100 [01:49<00:00,  1.10s/it, score=351]\n",
      "100%|██████████| 100/100 [01:49<00:00,  1.10s/it, score=364]  \n",
      "100%|██████████| 100/100 [01:49<00:00,  1.10s/it, score=393]  \n",
      "100%|██████████| 100/100 [01:49<00:00,  1.10s/it, score=332]  \n",
      "100%|██████████| 100/100 [01:49<00:00,  1.10s/it, score=344]  \n",
      "100%|██████████| 100/100 [01:50<00:00,  1.10s/it, score=349]  \n",
      "100%|██████████| 100/100 [01:49<00:00,  1.10s/it, score=436]  \n",
      "100%|██████████| 100/100 [01:49<00:00,  1.10s/it, score=397]  \n",
      "100%|██████████| 100/100 [01:49<00:00,  1.10s/it, score=307]   \n",
      "100%|██████████| 100/100 [01:49<00:00,  1.10s/it, score=364]  \n",
      "100%|██████████| 100/100 [01:49<00:00,  1.10s/it, score=402]  \n",
      "100%|██████████| 100/100 [01:49<00:00,  1.09s/it, score=356]  \n",
      "100%|██████████| 100/100 [01:49<00:00,  1.09s/it, score=394]  \n",
      "100%|██████████| 100/100 [01:48<00:00,  1.09s/it, score=334]  \n",
      "100%|██████████| 100/100 [01:49<00:00,  1.09s/it, score=315]  \n",
      "100%|██████████| 100/100 [01:49<00:00,  1.09s/it, score=389]  \n",
      "100%|██████████| 100/100 [01:49<00:00,  1.10s/it, score=373]  \n",
      "100%|██████████| 100/100 [01:49<00:00,  1.10s/it, score=353]  \n",
      "100%|██████████| 100/100 [01:49<00:00,  1.09s/it, score=356]  \n",
      "100%|██████████| 100/100 [01:49<00:00,  1.10s/it, score=373]  \n",
      "100%|██████████| 100/100 [01:49<00:00,  1.09s/it, score=332]  \n",
      "100%|██████████| 100/100 [01:49<00:00,  1.10s/it, score=355]  \n",
      "100%|██████████| 100/100 [01:49<00:00,  1.09s/it, score=322]  \n",
      "100%|██████████| 100/100 [01:49<00:00,  1.09s/it, score=341]  \n",
      "100%|██████████| 100/100 [01:49<00:00,  1.09s/it, score=370]  \n",
      "100%|██████████| 100/100 [01:49<00:00,  1.10s/it, score=334]   \n",
      "100%|██████████| 100/100 [01:49<00:00,  1.09s/it, score=364]  \n",
      "100%|██████████| 100/100 [01:49<00:00,  1.10s/it, score=373]   \n",
      "100%|██████████| 100/100 [01:49<00:00,  1.10s/it, score=423]  \n",
      "100%|██████████| 100/100 [01:49<00:00,  1.09s/it, score=543]  \n",
      "100%|██████████| 100/100 [01:49<00:00,  1.10s/it, score=413]  \n",
      "100%|██████████| 100/100 [01:49<00:00,  1.10s/it, score=380]  \n",
      "100%|██████████| 100/100 [01:49<00:00,  1.10s/it, score=346]  \n",
      "100%|██████████| 100/100 [01:50<00:00,  1.10s/it, score=396]  \n",
      "100%|██████████| 100/100 [01:49<00:00,  1.10s/it, score=402]  \n",
      "100%|██████████| 100/100 [01:49<00:00,  1.10s/it, score=363]  \n",
      "100%|██████████| 100/100 [01:49<00:00,  1.10s/it, score=332]  \n",
      "100%|██████████| 100/100 [01:49<00:00,  1.09s/it, score=342]  \n",
      "100%|██████████| 100/100 [01:49<00:00,  1.10s/it, score=334]  \n",
      "100%|██████████| 100/100 [01:49<00:00,  1.10s/it, score=376]  \n",
      "100%|██████████| 100/100 [01:49<00:00,  1.10s/it, score=413]\n",
      "100%|██████████| 100/100 [01:49<00:00,  1.10s/it, score=403]  \n",
      "100%|██████████| 100/100 [01:49<00:00,  1.10s/it, score=333]  \n",
      "100%|██████████| 100/100 [01:49<00:00,  1.10s/it, score=363]  \n",
      "100%|██████████| 100/100 [01:49<00:00,  1.10s/it, score=336]  \n",
      "100%|██████████| 100/100 [01:49<00:00,  1.10s/it, score=429]  \n",
      "100%|██████████| 100/100 [01:49<00:00,  1.09s/it, score=355]  \n",
      "100%|██████████| 100/100 [01:49<00:00,  1.10s/it, score=376]  \n"
     ]
    }
   ],
   "source": [
    "pop = []\n",
    "for _ in range(n_pop):\n",
    "    random.shuffle(words)\n",
    "    words_best = copy.deepcopy(words)\n",
    "    score_best = scorer.get_perplexity(\" \".join(words_best))\n",
    "    pbar = tqdm.tqdm(range(100))\n",
    "    for _ in pbar:\n",
    "        # 16個の近傍を生成\n",
    "        candidates = []\n",
    "        scores = []\n",
    "        for _ in range(16):\n",
    "            words_tmp, _ = make_neighbor(words_best)\n",
    "            candidates.append(words_tmp)\n",
    "            scores.append(scorer.get_perplexity(\" \".join(words_tmp)))\n",
    "        \n",
    "        # 元の解も含めて最良のものを選択\n",
    "        candidates.append(words_best)\n",
    "        scores.append(score_best)\n",
    "        best_idx = min(range(len(scores)), key=lambda i: scores[i])\n",
    "        words_best = candidates[best_idx]\n",
    "        score_best = scores[best_idx]\n",
    "        pbar.set_postfix({\"score\": score_best})\n",
    "    pop.append(words_best)"
   ]
  },
  {
   "cell_type": "code",
   "execution_count": 247,
   "metadata": {},
   "outputs": [],
   "source": [
    "pd.to_pickle(pop, \"pop_0002_100samples.pkl\")"
   ]
  },
  {
   "cell_type": "code",
   "execution_count": 28,
   "metadata": {},
   "outputs": [
    {
     "name": "stdout",
     "output_type": "stream",
     "text": [
      "jingle grinch holiday eat sing relax unwrap decorations gifts cheer yuletide ornament carol holly stocking magi nutcracker chimney naughty nice sleigh polar beard workshop visit and the of cheer is\n",
      "ornament holiday cheer cheer and eat relax unwrap decorations yuletide chimney stocking magi carol sing grinch the of is nutcracker naughty nice holly jingle sleigh visit workshop polar beard gifts\n",
      "grinch of the eat gifts sing yuletide carol holiday cheer jingle relax unwrap stocking decorations ornament holly naughty and nice nutcracker magi visit chimney beard sleigh workshop polar is cheer\n",
      "sleigh holiday cheer cheer yuletide holly the magi of workshop polar beard unwrap chimney visit nutcracker is naughty nice gifts and grinch eat jingle relax carol sing ornament decorations stocking\n",
      "ornament yuletide stocking gifts of the magi carol grinch holiday cheer holly unwrap cheer and eat relax sing chimney sleigh naughty visit polar workshop jingle beard is nice nutcracker decorations\n",
      "decorations unwrap ornament gifts eat relax cheer holly jingle naughty nice sleigh and the magi visit workshop of grinch is chimney stocking yuletide polar beard nutcracker holiday cheer carol sing\n",
      "sleigh of gifts yuletide jingle grinch is the holiday cheer unwrap ornament stocking magi holly nutcracker polar beard workshop chimney visit naughty nice eat and sing carol relax decorations cheer\n",
      "nutcracker of the magi grinch eat cheer yuletide holly unwrap jingle relax sleigh sing chimney visit polar is beard workshop naughty and nice gifts carol holiday cheer decorations ornament stocking\n",
      "sleigh of cheer cheer jingle relax and eat yuletide grinch holiday is unwrap sing carol the nutcracker decorations ornament holly magi visit polar beard workshop gifts naughty nice chimney stocking\n",
      "sleigh sing unwrap cheer cheer eat and relax jingle grinch naughty of workshop nice the nutcracker polar beard gifts is visit chimney decorations yuletide holiday carol holly ornament stocking magi\n"
     ]
    }
   ],
   "source": [
    "for p in pop:\n",
    "    print(\" \".join(p))"
   ]
  },
  {
   "cell_type": "code",
   "execution_count": 44,
   "metadata": {},
   "outputs": [],
   "source": [
    "from util import get_perplexity_, load_score_memo, save_score_memo\n",
    "import math"
   ]
  },
  {
   "cell_type": "code",
   "execution_count": 45,
   "metadata": {},
   "outputs": [],
   "source": [
    "class GAEAX:\n",
    "    def __init__(self, words: list[str], words_ppls_map: dict[str, str], scorer, idx: int, population_size: int = 10, n_offspring: int = 16, generations: int = 50, initial_pop: list[list[str]] = None, mode: int = 1, decay_rate: float = 0.95):\n",
    "        self.idx = idx\n",
    "        self.words = words\n",
    "        self.idx_words = {w: i for i, w in enumerate(words)}\n",
    "        self.n_words = len(words)\n",
    "        self.pheromone = np.zeros((self.n_words, self.n_words))\n",
    "        self.decay_rate = decay_rate\n",
    "        self.words_ppls_map = words_ppls_map\n",
    "        self.population_size = population_size\n",
    "        self.n_offspring = n_offspring\n",
    "        self.generations = generations\n",
    "        self.calculator = scorer\n",
    "        self.score_memo = {}\n",
    "        self.score_memo_with_error = {}\n",
    "        self.pop = []\n",
    "        if initial_pop is not None:\n",
    "            self.set_population(copy.deepcopy(initial_pop))\n",
    "        self.mode = mode\n",
    "\n",
    "    def set_population(self, pop: list[list[str]]):\n",
    "        self.pop = pop\n",
    "\n",
    "    def _calc_perplexity(self, words: list[str]) -> float:\n",
    "        idx_bos = words.index(\"<bos>\")\n",
    "        words_use = words[idx_bos+1:] + words[:idx_bos]\n",
    "        words_use = [self.words_ppls_map[w] for w in words_use]\n",
    "        return get_perplexity_(self.calculator, self.score_memo, self.score_memo_with_error, \" \".join(words_use))\n",
    "\n",
    "    def calculate_edge_entropy(self, population: list[list[str]]) -> float:\n",
    "        \"\"\"集団の枝エントロピーを計算\"\"\"\n",
    "        edge_count = {}\n",
    "        total_edges = 0\n",
    "        \n",
    "        for solution in population:\n",
    "            for i in range(len(solution) - 1):\n",
    "                edge = (solution[i], solution[i + 1])\n",
    "                if edge not in edge_count:\n",
    "                    edge_count[edge] = 0\n",
    "                edge_count[edge] += 1\n",
    "                total_edges += 1\n",
    "\n",
    "            edge = (solution[-1], solution[0])\n",
    "            if edge not in edge_count:\n",
    "                edge_count[edge] = 0\n",
    "            edge_count[edge] += 1\n",
    "            total_edges += 1\n",
    "        \n",
    "        entropy = 0.0\n",
    "        for count in edge_count.values():\n",
    "            p = count / total_edges\n",
    "            entropy -= p * math.log(p)\n",
    "        \n",
    "        return entropy\n",
    "\n",
    "    def edge_assembly_crossover(self, parent1_words: list[str], parent2_words: list[str]) -> list[str]:\n",
    "        \"\"\"Edge Assembly Crossoverを実装\"\"\"\n",
    "        n = len(parent1_words)\n",
    "        parent1 = [self.idx_words[w] for w in parent1_words]\n",
    "        parent2 = [self.idx_words[w] for w in parent2_words]\n",
    "        \n",
    "        if set(parent1) != set(range(n)):\n",
    "            print(parent1)\n",
    "            print(set(parent1))\n",
    "            print(parent1_words)\n",
    "        if set(parent2) != set(range(n)):\n",
    "            print(parent2)\n",
    "            print(set(parent2))\n",
    "            print(parent2_words)\n",
    "        assert set(parent1) == set(range(n))\n",
    "        assert set(parent2) == set(range(n))\n",
    "\n",
    "        # 両親からエッジ情報を抽出\n",
    "        edges1 = {}\n",
    "        edges1_inv = {}\n",
    "        edges2 = {}\n",
    "        # parent1のエッジ情報を構築\n",
    "        for i in range(len(parent1)):\n",
    "            curr = parent1[i]\n",
    "            next_word = parent1[(i + 1) % n]\n",
    "            edges1[curr] = next_word\n",
    "            edges1_inv[next_word] = curr\n",
    "\n",
    "        # parent2のエッジ情報を構築\n",
    "        for i in range(len(parent2)):\n",
    "            curr = parent2[i]\n",
    "            next_word = parent2[(i + 1) % n]\n",
    "            edges2[curr] = next_word\n",
    "\n",
    "        # ABサイクルの構築\n",
    "        esets = []\n",
    "        usedA = set()\n",
    "        usedB = set()\n",
    "        for i in range(n):\n",
    "            eset_curr = []\n",
    "            curr = i\n",
    "            usedA.add(curr)\n",
    "            eset_curr.append(curr)\n",
    "\n",
    "            is_a = True\n",
    "            while True:\n",
    "                if is_a:\n",
    "                    nxt = edges1_inv[curr]\n",
    "                else:\n",
    "                    nxt = edges2[curr]\n",
    "                if is_a and nxt in usedB:\n",
    "                    if len(eset_curr) > 2:\n",
    "                        esets.append(eset_curr)\n",
    "                    break\n",
    "                elif not is_a and nxt in usedA:\n",
    "                    if len(eset_curr) > 2:\n",
    "                        esets.append(eset_curr)\n",
    "                    break\n",
    "                if is_a:\n",
    "                    usedB.add(nxt)\n",
    "                else:\n",
    "                    usedA.add(nxt)\n",
    "\n",
    "                eset_curr.append(nxt)\n",
    "                curr = nxt\n",
    "                is_a = not is_a\n",
    "\n",
    "        if len(esets) == 0: # parent 1 == parent 2\n",
    "            return parent1_words\n",
    "\n",
    "        # choose one eset\n",
    "        if self.mode == 1:\n",
    "            idx_eset = random.randint(0, len(esets) - 1)\n",
    "            eset = esets[idx_eset]\n",
    "            edge_remove = set()\n",
    "            edge_add = {}\n",
    "            for i in range(len(eset)):\n",
    "                curr = eset[i]\n",
    "                next_word = eset[(i + 1) % len(eset)]\n",
    "                if i % 2 == 0:\n",
    "                    edge_remove.add((next_word, curr)) # from parent 1 inv\n",
    "                else:\n",
    "                    edge_add[curr] = next_word # from parent 2\n",
    "        else: # mode == 2, global EAX mode\n",
    "            edge_remove = set()\n",
    "            edge_add = {}\n",
    "            for eset in esets:\n",
    "                if random.random() < 0.5:\n",
    "                    continue\n",
    "                for i in range(len(eset)):\n",
    "                    curr = eset[i]\n",
    "                    next_word = eset[(i + 1) % len(eset)]\n",
    "                    if i % 2 == 0:\n",
    "                        edge_remove.add((next_word, curr)) # from parent 1 inv\n",
    "                    else:\n",
    "                        edge_add[curr] = next_word # from parent 2\n",
    "\n",
    "        edges_offspring = edges1.copy()\n",
    "        for k, v in edge_add.items():\n",
    "            edges_offspring[k] = v\n",
    "            # automatically removed edges from 1 inv\n",
    "\n",
    "        # for i in range(n):\n",
    "        #     edges_offspring[i]\n",
    "        #     edge = (i, edges1[i])\n",
    "        #     if edge not in edge_remove:\n",
    "        #         edges_offspring[i] = edges1[i]\n",
    "        #     else:\n",
    "        #         edges_offspring[i] = edge_add[i]\n",
    "        while True:\n",
    "            # Find disconnected cycles\n",
    "            cycles = []\n",
    "            used = set()\n",
    "            for start in range(n):\n",
    "                if start in used:\n",
    "                    continue\n",
    "                cycle = []\n",
    "                curr = start\n",
    "                while curr not in used:\n",
    "                    cycle.append(curr)\n",
    "                    used.add(curr)\n",
    "                    curr = edges_offspring[curr]\n",
    "                if len(cycle) > 1:\n",
    "                    cycles.append(cycle)\n",
    "\n",
    "            if len(cycles) <= 1:\n",
    "                break\n",
    "\n",
    "            # Select two cycles and connect them\n",
    "            c1, c2 = random.sample(cycles, 2)\n",
    "            \n",
    "            # Find best connection points based on pheromone\n",
    "            best_i = best_j = 0\n",
    "            if random.random() < 0.5:\n",
    "                max_pheromone = float('-inf')\n",
    "                for i in range(len(c1)):\n",
    "                    for j in range(len(c2)):\n",
    "                        i_nxt = (i + 1) % len(c1)\n",
    "                        j_nxt = (j + 1) % len(c2)\n",
    "                        pheromone = - self.pheromone[c1[i]][c1[i_nxt]] - self.pheromone[c2[j]][c2[j_nxt]] \\\n",
    "                            + self.pheromone[c1[i]][c2[j_nxt]] + self.pheromone[c2[j]][c1[i_nxt]]\n",
    "                        if pheromone > max_pheromone:\n",
    "                            max_pheromone = pheromone\n",
    "                            best_i = i\n",
    "                            best_j = j\n",
    "            else:\n",
    "                best_i = random.randint(0, len(c1)-1)\n",
    "                best_j = random.randint(0, len(c2)-1)\n",
    "            # Reconnect the cycles\n",
    "            edges_offspring[c1[best_i]] = c2[(best_j+1)%len(c2)]\n",
    "            edges_offspring[c2[best_j]] = c1[(best_i+1)%len(c1)]\n",
    "\n",
    "        curr = 0\n",
    "        offspring = [curr]\n",
    "        for _ in range(n - 1):\n",
    "            curr = edges_offspring[curr]\n",
    "            offspring.append(curr)\n",
    "\n",
    "        if set(offspring) != set(range(n)):\n",
    "            print(\"bug - offspring is broken. use parent1_words\", offspring, parent1_words)\n",
    "            return parent1_words\n",
    "\n",
    "        assert set(offspring) == set(range(n))\n",
    "        return [self.words[i] for i in offspring]\n",
    "\n",
    "    def update_pheromone(self, population: list[list[str]]):\n",
    "        \"\"\"集団のpheromoneを更新\"\"\"\n",
    "        # Decay existing pheromone\n",
    "        # self.decay_rate = 0.95  # フェロモンの蒸発率\n",
    "        self.pheromone *= self.decay_rate\n",
    "        \n",
    "        # Add new pheromone based on solutions\n",
    "        for solution in population:\n",
    "            score = self._calc_perplexity(solution)\n",
    "            for i in range(len(solution)):\n",
    "                word1 = solution[i]\n",
    "                word2 = solution[(i + 1) % len(solution)]\n",
    "                idx1 = self.idx_words[word1]\n",
    "                idx2 = self.idx_words[word2]\n",
    "                self.pheromone[idx1][idx2] += 1.0 / score\n",
    "\n",
    "    def run(self):\n",
    "        \"\"\"GA-EAXメインループ\"\"\"\n",
    "        # 初期集団の生成\n",
    "        if not self.pop:\n",
    "            for _ in range(self.population_size):\n",
    "                solution = self.words.copy()\n",
    "                random.shuffle(solution[1:])  # 先頭は固定\n",
    "                self.pop.append(solution)\n",
    "        \n",
    "        scores = [self._calc_perplexity(sol) for sol in self.pop]\n",
    "        best_solution = min(zip(self.pop, scores), key=lambda x: x[1])\n",
    "        self.update_pheromone(self.pop)\n",
    "\n",
    "        pbar = tqdm.tqdm(range(self.generations), desc=\"GA-EAX\")\n",
    "        curr_gen_best = 1000000\n",
    "        for gen in pbar:\n",
    "            # 全ての親ペアからoffspringを生成\n",
    "            for i in range(len(self.pop)-1):\n",
    "                offspring_list = [copy.deepcopy(self.pop[i])]\n",
    "                offspring_scores = [scores[i]]\n",
    "                j = random.randint(i+1, len(self.pop)-1)\n",
    "                orig_scores = scores[i], scores[j]\n",
    "                # for j in range(i+1, len(self.pop)):\n",
    "                for _ in range(self.n_offspring):\n",
    "                    parent1, parent2 = self.pop[i], self.pop[j]\n",
    "                    child = self.edge_assembly_crossover(parent1, parent2)\n",
    "                    child_score = self._calc_perplexity(child)\n",
    "                    offspring_list.append(child)\n",
    "                    offspring_scores.append(child_score)\n",
    "                score_parent = scores[i]\n",
    "                entropy_parent = self.calculate_edge_entropy(self.pop)\n",
    "                best_idx = -1\n",
    "                best_score_diff = 0\n",
    "                eps = 1e-6\n",
    "                for jj, (score, child) in enumerate(zip(offspring_scores, offspring_list)):\n",
    "                    j = i + 1 + jj\n",
    "                    score_diff = score - score_parent\n",
    "                    if score_diff > 0:\n",
    "                        continue\n",
    "                    else:\n",
    "                        pop_new = [p for k, p in enumerate(self.pop) if k != i] + [child]\n",
    "                        entropy = self.calculate_edge_entropy(pop_new)\n",
    "                        entropy_diff = entropy - entropy_parent\n",
    "                        if entropy_diff >= 0.0:\n",
    "                            score_diff = - score_diff / eps\n",
    "                        else:\n",
    "                            score_diff = score_diff / entropy_diff\n",
    "                        if score_diff > best_score_diff:\n",
    "                            best_score_diff = score_diff\n",
    "                            best_idx = jj\n",
    "                if best_idx != -1:\n",
    "                    self.pop[i] = offspring_list[best_idx]\n",
    "                    scores[i] = offspring_scores[best_idx]\n",
    "                    if scores[i] < curr_gen_best:\n",
    "                        curr_gen_best = scores[i]\n",
    "                        idx_bos = self.pop[i].index(\"<bos>\")\n",
    "                        pop_save = self.pop[i][idx_bos+1:] + self.pop[i][:idx_bos]\n",
    "                        words_save = [self.words_ppls_map[w] for w in pop_save]\n",
    "                        save_text(self.calculator.get_perplexity, self.idx, \" \".join(words_save), verbose=1)\n",
    "                        print(f\"Best score: {orig_scores[0]:.2f} & {orig_scores[1]:.2f} -> {curr_gen_best:.2f}\")\n",
    "            \n",
    "            # # 親と子を合わせて評価\n",
    "            # all_solutions = self.pop + offspring_list\n",
    "            # all_scores = scores + offspring_scores\n",
    "            \n",
    "            # スコアの良い順にソート\n",
    "            sorted_solutions = sorted(zip(self.pop, scores), \n",
    "                                   key=lambda x: x[1])\n",
    "            \n",
    "            # # 上位population_size個体を次世代に残す\n",
    "            # self.pop = [sol for sol, _ in sorted_solutions[:self.population_size]]\n",
    "            # scores = [score for _, score in sorted_solutions[:self.population_size]]\n",
    "            \n",
    "            # 最良解の更新\n",
    "            if sorted_solutions[0][1] < best_solution[1]:\n",
    "                best_solution = sorted_solutions[0]\n",
    "                save_text(self.calculator.get_perplexity, 3, \" \".join(best_solution[0]), verbose=1)\n",
    "                print(f\"Best score: {best_solution[1]:.2f}\")\n",
    "                print(f\"Best solution: {best_solution[0]}\")\n",
    "            pbar.set_postfix({\"score\": best_solution[1]})\n",
    "        return best_solution[0], best_solution[1]\n",
    "\n"
   ]
  },
  {
   "cell_type": "code",
   "execution_count": 161,
   "metadata": {},
   "outputs": [],
   "source": [
    "# class GAEAX:\n",
    "#     def __init__(self, words: list[str],\n",
    "#                   scorer, population_size: int = 10,\n",
    "#                     generations: int = 50,\n",
    "#                       initial_pop: list[list[str]] = None):\n"
   ]
  },
  {
   "cell_type": "code",
   "execution_count": 170,
   "metadata": {},
   "outputs": [],
   "source": [
    "# import glob\n",
    "# pop = pd.read_pickle(\"pop_0002_100samples.pkl\")\n",
    "# files = glob.glob(\"./save/0003/*.txt\")\n",
    "# files = glob.glob(\"./save/0005/*.txt\")\n",
    "# files.sort()"
   ]
  },
  {
   "cell_type": "code",
   "execution_count": 171,
   "metadata": {},
   "outputs": [],
   "source": [
    "# pop = []\n",
    "# for i, file in enumerate(files[::-1]):\n",
    "#     with open(file, \"r\") as f:\n",
    "#         pop.append(f.read().split())    \n"
   ]
  },
  {
   "cell_type": "code",
   "execution_count": 102,
   "metadata": {},
   "outputs": [
    {
     "data": {
      "text/plain": [
       "682080"
      ]
     },
     "execution_count": 102,
     "metadata": {},
     "output_type": "execute_result"
    }
   ],
   "source": [
    "# memo = pd.read_pickle(\"score_memo_with_error.pkl\")\n",
    "memo = pd.read_pickle(\"../../code_nagiss/save/score_memo.pkl\")\n",
    "len(memo)"
   ]
  },
  {
   "cell_type": "code",
   "execution_count": 103,
   "metadata": {},
   "outputs": [
    {
     "data": {
      "text/plain": [
       "50"
      ]
     },
     "execution_count": 103,
     "metadata": {},
     "output_type": "execute_result"
    }
   ],
   "source": [
    "idx = 4\n",
    "text_sample = df_sample.iloc[idx][\"text\"]\n",
    "words_set_sample = sorted(text_sample.split())\n",
    "len(words_set_sample)"
   ]
  },
  {
   "cell_type": "code",
   "execution_count": 104,
   "metadata": {},
   "outputs": [
    {
     "name": "stderr",
     "output_type": "stream",
     "text": [
      "682080it [00:02, 255194.87it/s]\n"
     ]
    },
    {
     "data": {
      "text/plain": [
       "(178667, 178667)"
      ]
     },
     "execution_count": 104,
     "metadata": {},
     "output_type": "execute_result"
    }
   ],
   "source": [
    "scores = []\n",
    "texts = []\n",
    "# score_words = []\n",
    "for i, (text, score) in tqdm.tqdm(enumerate(memo.items())):\n",
    "    words_sorted = sorted(text.split())\n",
    "    if words_sorted == words_set_sample:\n",
    "        texts.append(text)\n",
    "        scores.append(score)\n",
    "        # score_words.append((score, text.split()))\n",
    "len(texts), len(scores)"
   ]
  },
  {
   "cell_type": "code",
   "execution_count": 105,
   "metadata": {},
   "outputs": [],
   "source": [
    "df = pd.DataFrame({\"text\": texts, \"score\": scores})\n",
    "df = df.sort_values(by=\"score\", ascending=True)"
   ]
  },
  {
   "cell_type": "code",
   "execution_count": 106,
   "metadata": {},
   "outputs": [],
   "source": [
    "texts = df[\"text\"].tolist()[:1000]\n",
    "# texts = texts[::-1]\n",
    "# scores = scorer.get_perplexity(texts)"
   ]
  },
  {
   "cell_type": "code",
   "execution_count": 108,
   "metadata": {},
   "outputs": [],
   "source": [
    "texts.append(\"of and to in the as you that it we with from have not night season eggnog milk chocolate candy peppermint cookie fruitcake toy doll game puzzle snowglobe candle fireplace star angel wreath poinsettia greeting card wrapping paper bow wish dream believe wonder hope joy peace merry hohoho kaggle workshop\")"
   ]
  },
  {
   "cell_type": "code",
   "execution_count": 109,
   "metadata": {},
   "outputs": [],
   "source": [
    "pop = [t.split() for t in texts]"
   ]
  },
  {
   "cell_type": "code",
   "execution_count": 110,
   "metadata": {},
   "outputs": [
    {
     "name": "stdout",
     "output_type": "stream",
     "text": [
      "1001\n"
     ]
    }
   ],
   "source": [
    "n_pop = len(pop)\n",
    "print(n_pop)"
   ]
  },
  {
   "cell_type": "code",
   "execution_count": 111,
   "metadata": {},
   "outputs": [],
   "source": [
    "pop_use = []\n",
    "words_ppls_map = {}\n",
    "for p in pop:\n",
    "    p_use = [\"<bos>\"]\n",
    "    for w in p:\n",
    "        while w in p_use:\n",
    "            w += \"1\"\n",
    "        p_use.append(w)\n",
    "        words_ppls_map[w] = w\n",
    "    pop_use.append(p_use)"
   ]
  },
  {
   "cell_type": "code",
   "execution_count": 112,
   "metadata": {},
   "outputs": [
    {
     "data": {
      "text/plain": [
       "1001"
      ]
     },
     "execution_count": 112,
     "metadata": {},
     "output_type": "execute_result"
    }
   ],
   "source": [
    "len(pop_use)"
   ]
  },
  {
   "cell_type": "code",
   "execution_count": 113,
   "metadata": {},
   "outputs": [],
   "source": [
    "ga_eax = GAEAX(pop_use[0], words_ppls_map, scorer, idx=idx, population_size=n_pop, n_offspring=32, generations=10000, initial_pop=pop_use, mode=2)"
   ]
  },
  {
   "cell_type": "code",
   "execution_count": 114,
   "metadata": {},
   "outputs": [],
   "source": [
    "# for p in pop:\n",
    "#     print(scorer.get_perplexity(\" \".join(p)))\n"
   ]
  },
  {
   "cell_type": "code",
   "execution_count": 115,
   "metadata": {},
   "outputs": [],
   "source": [
    "test = set(pop_use[0])\n",
    "for p in pop_use:\n",
    "    if set(p) != test:\n",
    "        print(len(p), len(set(p)), p)\n"
   ]
  },
  {
   "cell_type": "code",
   "execution_count": 116,
   "metadata": {},
   "outputs": [
    {
     "name": "stderr",
     "output_type": "stream",
     "text": [
      "GA-EAX:   0%|          | 0/10000 [00:00<?, ?it/s]"
     ]
    },
    {
     "name": "stdout",
     "output_type": "stream",
     "text": [
      "score:77.5996\n",
      "Best score: 77.90 & 80.38 -> 77.60\n",
      "score:76.9957\n",
      "Best score: 78.21 & 84.23 -> 77.00\n",
      "score:68.2144\n",
      "Best score: 80.06 & 68.21 -> 68.21\n"
     ]
    },
    {
     "name": "stderr",
     "output_type": "stream",
     "text": [
      "GA-EAX:   0%|          | 15/10000 [1:30:33<585:53:25, 211.24s/it, score=68.2]"
     ]
    }
   ],
   "source": [
    "ga_eax.run()"
   ]
  },
  {
   "cell_type": "code",
   "execution_count": null,
   "metadata": {},
   "outputs": [],
   "source": []
  },
  {
   "cell_type": "code",
   "execution_count": 91,
   "metadata": {},
   "outputs": [],
   "source": [
    "df_best = pd.read_csv(\"./submission_248.723217.csv\")"
   ]
  },
  {
   "cell_type": "code",
   "execution_count": 98,
   "metadata": {},
   "outputs": [],
   "source": [
    "scores = scorer.get_perplexity(df_best[\"text\"].to_list())"
   ]
  },
  {
   "cell_type": "code",
   "execution_count": 99,
   "metadata": {},
   "outputs": [
    {
     "data": {
      "text/plain": [
       "np.float64(249.379098366195)"
      ]
     },
     "execution_count": 99,
     "metadata": {},
     "output_type": "execute_result"
    }
   ],
   "source": [
    "np.mean(scores)"
   ]
  },
  {
   "cell_type": "code",
   "execution_count": 97,
   "metadata": {},
   "outputs": [
    {
     "data": {
      "text/plain": [
       "198.9331323667161"
      ]
     },
     "execution_count": 97,
     "metadata": {},
     "output_type": "execute_result"
    }
   ],
   "source": [
    "scorer.get_perplexity(\"sleigh of holly yuletide cheer unwrap gifts eat holiday cheer relax sing carol the magi visit workshop grinch is naughty and nice decorations ornament chimney stocking nutcracker polar beard jingle\")"
   ]
  },
  {
   "cell_type": "code",
   "execution_count": 96,
   "metadata": {},
   "outputs": [
    {
     "data": {
      "text/plain": [
       "198.9331323667161"
      ]
     },
     "execution_count": 96,
     "metadata": {},
     "output_type": "execute_result"
    }
   ],
   "source": [
    "scorer.get_perplexity(\"sleigh of holiday cheer unwrap gifts relax eat yuletide cheer sing carol the magi visit workshop grinch is naughty and nice decorations ornament chimney stocking nutcracker polar beard holly jingle\")"
   ]
  },
  {
   "cell_type": "code",
   "execution_count": 90,
   "metadata": {},
   "outputs": [],
   "source": [
    "import gc\n",
    "gc.collect()\n",
    "import torch\n",
    "torch.cuda.empty_cache()\n"
   ]
  },
  {
   "cell_type": "code",
   "execution_count": null,
   "metadata": {},
   "outputs": [],
   "source": [
    "def edge_assembly_crossover(parent1: list[str], parent2: list[str]) -> list[str]:\n",
    "    \"\"\"Edge Assembly Crossoverを実装\"\"\"\n",
    "    n = len(parent1)\n",
    "    \n",
    "    # 両親からエッジ情報を抽出\n",
    "    edges = {}\n",
    "    for p in [parent1, parent2]:\n",
    "        for i in range(n-1):\n",
    "            w1, w2 = p[i], p[i+1]\n",
    "            if w1 not in edges:\n",
    "                edges[w1] = set()\n",
    "            edges[w1].add(w2)\n",
    "    \n",
    "    # ABサイクルの構築\n",
    "    result = [\"<bos>\"]  # 開始ワード\n",
    "    used = set([\"<bos>\"])\n",
    "    \n",
    "    while len(result) < n:\n",
    "        curr = result[-1]\n",
    "        # 使用可能なエッジから次のワードを選択\n",
    "        candidates = edges.get(curr, set()) - used\n",
    "        if not candidates:  # 行き詰まった場合\n",
    "            candidates = set(parent1) - used\n",
    "        \n",
    "        next_word = random.choice(list(candidates))\n",
    "        result.append(next_word)\n",
    "        used.add(next_word)\n",
    "    \n",
    "    return result\n",
    "\n",
    "def run_ga_eax(words: list[str], population_size: int = 10, generations: int = 50):\n",
    "    \"\"\"GA-EAXメインループ\"\"\"\n",
    "    # 初期集団の生成\n",
    "    population = []\n",
    "    scores = []\n",
    "    for _ in range(population_size):\n",
    "        solution = words.copy()\n",
    "        random.shuffle(solution[1:])  # <bos>は固定\n",
    "        score = scorer.get_perplexity(\" \".join(solution))\n",
    "        population.append(solution)\n",
    "        scores.append(score)\n",
    "    \n",
    "    best_solution = min(zip(population, scores), key=lambda x: x[1])\n",
    "    \n",
    "    for gen in tqdm.tqdm(range(generations)):\n",
    "        # 親の選択（トーナメント選択）\n",
    "        new_population = []\n",
    "        new_scores = []\n",
    "        \n",
    "        while len(new_population) < population_size:\n",
    "            # 親の選択\n",
    "            parents = random.sample(list(zip(population, scores)), 2)\n",
    "            parent1 = min(parents, key=lambda x: x[1])[0]\n",
    "            parent2 = max(parents, key=lambda x: x[1])[0]\n",
    "            \n",
    "            # 交叉\n",
    "            child = edge_assembly_crossover(parent1, parent2)\n",
    "            \n",
    "            # 局所探索（近傍探索）\n",
    "            for _ in range(5):  # 局所探索の回数\n",
    "                neighbor, _ = make_neighbor(child)\n",
    "                if scorer.get_perplexity(\" \".join(neighbor)) < scorer.get_perplexity(\" \".join(child)):\n",
    "                    child = neighbor\n",
    "            \n",
    "            score = scorer.get_perplexity(\" \".join(child))\n",
    "            new_population.append(child)\n",
    "            new_scores.append(score)\n",
    "            \n",
    "            # 最良解の更新\n",
    "            if score < best_solution[1]:\n",
    "                best_solution = (child, score)\n",
    "                print(f\"Generation {gen}: Best Score = {best_solution[1]:.2f}, solution = {child}\")\n",
    "        \n",
    "        # 世代の更新\n",
    "        population = new_population\n",
    "        scores = new_scores\n",
    "        \n",
    "        if gen % 5 == 0:  # 5世代ごとに経過を表示\n",
    "            print(f\"Generation {gen}: Best Score = {best_solution[1]:.2f}\")\n",
    "    \n",
    "    return best_solution"
   ]
  },
  {
   "cell_type": "code",
   "execution_count": null,
   "metadata": {},
   "outputs": [],
   "source": [
    "# Calculate pheromone matrix from population\n",
    "n_words = len(words)\n",
    "pheromone = np.zeros((n_words, n_words))\n",
    "\n",
    "# Add sentinel nodes for cycle representation\n",
    "words_with_sentinel = [\"<bos>\"] + words + [\"<eos>\"]\n",
    "n_words_with_sentinel = len(words_with_sentinel)\n",
    "\n",
    "# Calculate scores for each solution in population\n",
    "pop_scores = []\n",
    "for solution in pop:\n",
    "    solution_with_sentinel = [\"<bos>\"] + solution + [\"<eos>\"]\n",
    "    score = scorer.get_perplexity(\" \".join(solution))\n",
    "    pop_scores.append(score)\n",
    "\n",
    "# Update pheromone based on solution quality\n",
    "for solution, score in zip(pop, pop_scores):\n",
    "    solution_with_sentinel = [\"<bos>\"] + solution + [\"<eos>\"]\n",
    "    for i in range(n_words_with_sentinel-1):\n",
    "        word1 = solution_with_sentinel[i] \n",
    "        word2 = solution_with_sentinel[i+1]\n",
    "        idx1 = words_with_sentinel.index(word1)\n",
    "        idx2 = words_with_sentinel.index(word2)\n",
    "        # Add pheromone inversely proportional to perplexity\n",
    "        pheromone[idx1][idx2] += 1.0/score\n",
    "\n",
    "# Normalize pheromone matrix\n",
    "pheromone = pheromone / np.sum(pheromone)\n"
   ]
  },
  {
   "cell_type": "code",
   "execution_count": null,
   "metadata": {},
   "outputs": [],
   "source": []
  },
  {
   "cell_type": "code",
   "execution_count": null,
   "metadata": {},
   "outputs": [],
   "source": []
  },
  {
   "cell_type": "code",
   "execution_count": null,
   "metadata": {},
   "outputs": [],
   "source": []
  },
  {
   "cell_type": "code",
   "execution_count": 12,
   "metadata": {},
   "outputs": [],
   "source": [
    "words = [\"<bos>\"] + words"
   ]
  },
  {
   "cell_type": "code",
   "execution_count": null,
   "metadata": {},
   "outputs": [],
   "source": []
  }
 ],
 "metadata": {
  "kernelspec": {
   "display_name": ".venv",
   "language": "python",
   "name": "python3"
  },
  "language_info": {
   "codemirror_mode": {
    "name": "ipython",
    "version": 3
   },
   "file_extension": ".py",
   "mimetype": "text/x-python",
   "name": "python",
   "nbconvert_exporter": "python",
   "pygments_lexer": "ipython3",
   "version": "3.12.7"
  }
 },
 "nbformat": 4,
 "nbformat_minor": 2
}
