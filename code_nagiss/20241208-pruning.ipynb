{
 "cells": [
  {
   "cell_type": "code",
   "execution_count": 1,
   "id": "3bbf3bbd-9bc9-40da-a88c-cd68877f0e43",
   "metadata": {},
   "outputs": [],
   "source": [
    "import pandas as pd\n",
    "import numpy as np\n",
    "import matplotlib.pyplot as plt\n",
    "\n",
    "import copy\n",
    "import gc\n",
    "import itertools\n",
    "import random\n",
    "from pathlib import Path\n",
    "from time import time\n",
    "from typing import Generator, Optional\n",
    "\n",
    "import numpy as np\n",
    "import pandas as pd\n",
    "import torch\n",
    "from evaluation import PerplexityCalculator\n",
    "from tqdm.auto import tqdm\n",
    "from util import (\n",
    "    # PriorityQueue,\n",
    "    get_path_words_best,\n",
    "    get_perplexity_,\n",
    "    load_score_memo,\n",
    "    save_score_memo,\n",
    "    save_text,\n",
    ")\n"
   ]
  },
  {
   "cell_type": "code",
   "execution_count": 2,
   "id": "504b1943-23a7-491b-8153-82f22b49cd0a",
   "metadata": {},
   "outputs": [],
   "source": [
    "df_sample = pd.read_csv(\"../input/santa-2024/sample_submission.csv\")"
   ]
  },
  {
   "cell_type": "code",
   "execution_count": 3,
   "id": "8c029b0a-8a11-44cf-80ea-d9bbf27d3e41",
   "metadata": {},
   "outputs": [
    {
     "data": {
      "application/vnd.jupyter.widget-view+json": {
       "model_id": "1ed8de8e4c0e4c149311df0623ab7e98",
       "version_major": 2,
       "version_minor": 0
      },
      "text/plain": [
       "Loading checkpoint shards:   0%|          | 0/8 [00:00<?, ?it/s]"
      ]
     },
     "metadata": {},
     "output_type": "display_data"
    }
   ],
   "source": [
    "path_model = Path(\"../input/gemma-2/\")\n",
    "calculator = PerplexityCalculator(model_path=str(path_model))"
   ]
  },
  {
   "cell_type": "code",
   "execution_count": 52,
   "id": "15f53480-13bb-4cd8-b191-05fb87b7dd7a",
   "metadata": {},
   "outputs": [],
   "source": [
    "# txt = \"from the the the of of and and and to in is you that it we have not with as bake candy card drive eat family game give hope jump laugh milk night peace puzzle relax season sing sleep toy unwrap visit walk wish yuletide candle carol cheer chimney chocolate cookie eggnog fireplace fruitcake gingerbread greeting holly mistletoe nutcracker ornament ornament peppermint poinsettia reindeer scrooge sleigh snowglobe star stocking wreath wrapping paper advent angel beard believe bow cheer chimney decorations doll dream elf fireplace gifts grinch holiday hohoho jingle joy kaggle magi merry naughty nice night polar workshop workshop wonder\"\n",
    "txt = \"reindeer mistletoe elf gingerbread family advent scrooge chimney fireplace ornament\"\n",
    "words = txt.split(\" \")"
   ]
  },
  {
   "cell_type": "code",
   "execution_count": 53,
   "id": "0705cc31-dcf2-4320-8261-dccd8b31f55b",
   "metadata": {},
   "outputs": [],
   "source": [
    "res = calculator.get_log_ppl_per_word([txt[:20] for _ in range(1024)], batch_size=1024)"
   ]
  },
  {
   "cell_type": "code",
   "execution_count": 54,
   "id": "41c2cf1e-9cac-4b9a-b246-43e4b0d302f3",
   "metadata": {},
   "outputs": [
    {
     "data": {
      "application/vnd.jupyter.widget-view+json": {
       "model_id": "ac9fda0be7cd418399ff4764a22773a6",
       "version_major": 2,
       "version_minor": 0
      },
      "text/plain": [
       "  0%|          | 0/10 [00:00<?, ?it/s]"
      ]
     },
     "metadata": {},
     "output_type": "display_data"
    },
    {
     "name": "stdout",
     "output_type": "stream",
     "text": [
      "[('reindeer',), ('mistletoe',), ('elf',), ('gingerbread',), ('family',), ('advent',), ('scrooge',), ('chimney',), ('fireplace',), ('ornament',)]\n"
     ]
    }
   ],
   "source": [
    "score_dict = {}\n",
    "key_list = []\n",
    "for w1 in tqdm(words):\n",
    "    key =(w1, )\n",
    "    if key in score_dict or key in key_list:\n",
    "        continue\n",
    "    key_list.append(key)\n",
    "    if len(key_list) == 1024:\n",
    "        vals = calculator.get_log_ppl_per_word([\" \".join(words) for words in key_list], batch_size=1)\n",
    "        for i in range(len(key_list)):\n",
    "            key = key_list[i]\n",
    "            key2 = (key[0], \"<eos>\")\n",
    "            score_dict[key] = vals[i][-2]\n",
    "            score_dict[key2] = vals[i][-1]\n",
    "        key_list = []\n",
    "if len(key_list) > 0:\n",
    "    print(key_list)\n",
    "    vals = calculator.get_log_ppl_per_word([\" \".join(words) for words in key_list], batch_size=128)\n",
    "    for i in range(len(key_list)):\n",
    "        key = key_list[i]\n",
    "        key2 = (key[0], \"<eos>\")\n",
    "        score_dict[key] = vals[i][-2]\n",
    "        score_dict[key2] = vals[i][-1]\n",
    "    key_list = []"
   ]
  },
  {
   "cell_type": "code",
   "execution_count": 55,
   "id": "cb2ca036-980e-47d7-9c5c-b979fa9f2af1",
   "metadata": {},
   "outputs": [
    {
     "data": {
      "application/vnd.jupyter.widget-view+json": {
       "model_id": "fef4f45c214e4b4a8ab06c504ff50aec",
       "version_major": 2,
       "version_minor": 0
      },
      "text/plain": [
       "  0%|          | 0/10 [00:00<?, ?it/s]"
      ]
     },
     "metadata": {},
     "output_type": "display_data"
    }
   ],
   "source": [
    "key_list = []\n",
    "for w1 in tqdm(words):\n",
    "    for w2 in words:\n",
    "        key = (w1, w2)\n",
    "        if key in score_dict or key in key_list:\n",
    "            continue\n",
    "        key_list.append(key)\n",
    "        if len(key_list) == 1024:\n",
    "            vals = calculator.get_log_ppl_per_word([\" \".join(words) for words in key_list], batch_size=128)\n",
    "            for i in range(len(key_list)):\n",
    "                key = key_list[i]\n",
    "                key2 = (key[0], key[1], \"<eos>\")\n",
    "                score_dict[key] = vals[i][-2]\n",
    "                score_dict[key2] = vals[i][-1]\n",
    "            key_list = []\n",
    "if len(key_list) > 0:\n",
    "    vals = calculator.get_log_ppl_per_word([\" \".join(words) for words in key_list], batch_size=128)\n",
    "    for i in range(len(key_list)):\n",
    "        key = key_list[i]\n",
    "        key2 = (key[0], key[1], \"<eos>\")\n",
    "        score_dict[key] = vals[i][-2]\n",
    "        score_dict[key2] = vals[i][-1]\n",
    "    key_list = []\n"
   ]
  },
  {
   "cell_type": "code",
   "execution_count": 56,
   "id": "7d0d8ab5-83e4-4a3a-9cad-c91a15567e44",
   "metadata": {},
   "outputs": [
    {
     "data": {
      "application/vnd.jupyter.widget-view+json": {
       "model_id": "4dc2b8c358e543a08e808358dd2f9f74",
       "version_major": 2,
       "version_minor": 0
      },
      "text/plain": [
       "  0%|          | 0/10 [00:00<?, ?it/s]"
      ]
     },
     "metadata": {},
     "output_type": "display_data"
    }
   ],
   "source": [
    "key_list = []\n",
    "for w1 in tqdm(words):\n",
    "    for w2 in words:\n",
    "        for w3 in words:\n",
    "            key = (w1, w2, w3)\n",
    "            if key in score_dict or key in key_list:\n",
    "                continue\n",
    "            key_list.append(key)\n",
    "            if len(key_list) == 1024:\n",
    "                vals = calculator.get_log_ppl_per_word([\" \".join(words) for words in key_list], batch_size=1024)\n",
    "                for i in range(len(key_list)):\n",
    "                    key = key_list[i]\n",
    "                    key2 = (key[0], key[1], key[2], \"<eos>\")\n",
    "                    score_dict[key] = vals[i][-2]\n",
    "                    score_dict[key2] = vals[i][-1]\n",
    "                key_list = []\n",
    "if len(key_list) > 0:\n",
    "    vals = calculator.get_log_ppl_per_word([\" \".join(words) for words in key_list], batch_size=1024)\n",
    "    for i in range(len(key_list)):\n",
    "        key = key_list[i]\n",
    "        key2 = (key[0], key[1], key[2], \"<eos>\")\n",
    "        score_dict[key] = vals[i][-2]\n",
    "        score_dict[key2] = vals[i][-1]\n",
    "    key_list = []"
   ]
  },
  {
   "cell_type": "code",
   "execution_count": 99,
   "id": "b6a294de-7c89-4456-b2b0-1a50404bfb88",
   "metadata": {},
   "outputs": [
    {
     "data": {
      "application/vnd.jupyter.widget-view+json": {
       "model_id": "59c3ab9a76a2417fa57acf90ce691999",
       "version_major": 2,
       "version_minor": 0
      },
      "text/plain": [
       "  0%|          | 0/10 [00:00<?, ?it/s]"
      ]
     },
     "metadata": {},
     "output_type": "display_data"
    }
   ],
   "source": [
    "key_list = []\n",
    "for w1 in tqdm(words):\n",
    "    for w2 in words:\n",
    "        for w3 in words:\n",
    "            for w4 in words:\n",
    "                key = (w1, w2, w3, w4)\n",
    "                if key in score_dict or key in key_list:\n",
    "                    continue\n",
    "                key_list.append(key)\n",
    "                if len(key_list) == 1024:\n",
    "                    vals = calculator.get_log_ppl_per_word([\" \".join(words) for words in key_list], batch_size=1024)\n",
    "                    for i in range(len(key_list)):\n",
    "                        key = key_list[i]\n",
    "                        key2 = (key[0], key[1], key[2], key[3], \"<eos>\")\n",
    "                        score_dict[key] = vals[i][-2]\n",
    "                        score_dict[key2] = vals[i][-1]\n",
    "                    key_list = []\n",
    "if len(key_list) > 0:\n",
    "    vals = calculator.get_log_ppl_per_word([\" \".join(words) for words in key_list], batch_size=1024)\n",
    "    for i in range(len(key_list)):\n",
    "        key = key_list[i]\n",
    "        key2 = (key[0], key[1], key[2], key[3], \"<eos>\")\n",
    "        score_dict[key] = vals[i][-2]\n",
    "        score_dict[key2] = vals[i][-1]\n",
    "    key_list = []"
   ]
  },
  {
   "cell_type": "code",
   "execution_count": 100,
   "id": "648963aa-6b37-42d2-abf4-10b8ee534f92",
   "metadata": {},
   "outputs": [],
   "source": [
    "# txt_best = \"from the the the of of and and and to in is you that it we have not with as bake candy card drive eat family game give hope jump laugh milk night peace puzzle relax season sing sleep toy unwrap visit walk wish yuletide candle carol cheer chimney chocolate cookie eggnog fireplace fruitcake gingerbread greeting holly mistletoe nutcracker ornament ornament peppermint poinsettia reindeer scrooge sleigh snowglobe star stocking wreath wrapping paper advent angel beard believe bow cheer chimney decorations doll dream elf fireplace gifts grinch holiday hohoho jingle joy kaggle magi merry naughty nice night polar workshop workshop wonder\"\n",
    "txt_best = txt"
   ]
  },
  {
   "cell_type": "code",
   "execution_count": 101,
   "id": "b7a2fbec-0406-4082-aef6-0ed7c8b10c75",
   "metadata": {},
   "outputs": [],
   "source": [
    "def make_neighbors(\n",
    "    words: list[str],\n",
    ") -> Generator[tuple[list[str], tuple], None, None]:\n",
    "    words = words.copy()\n",
    "    found = {tuple(words)}\n",
    "\n",
    "    sorted_segments = []\n",
    "    for i, (left_word, right_word) in enumerate(zip(words, words[1:])):\n",
    "        if left_word <= right_word:\n",
    "            if sorted_segments and sorted_segments[-1][1] == i + 1:\n",
    "                sorted_segments[-1][1] = i + 2\n",
    "            else:\n",
    "                sorted_segments.append([i, i + 2])\n",
    "    sorted_segments = [\n",
    "        (left, right) for left, right in sorted_segments if right - left >= 4\n",
    "    ]\n",
    "\n",
    "    for length in range(1, 8):\n",
    "        if length >= 2:\n",
    "            # 区間を既にソートされている部分に入れる\n",
    "            results = []\n",
    "            for source_l in range(len(words) - length + 1):\n",
    "                source_r = source_l + length\n",
    "                for target_l, target_r in sorted_segments:\n",
    "                    if source_r <= target_l:\n",
    "                        permuted = (\n",
    "                            words[:source_l]\n",
    "                            + words[source_r:target_l]\n",
    "                            + sorted(\n",
    "                                words[source_l:source_r] + words[target_l:target_r]\n",
    "                            )\n",
    "                            + words[target_r:]\n",
    "                        )\n",
    "                    elif target_r <= source_l:\n",
    "                        permuted = (\n",
    "                            words[:target_l]\n",
    "                            + sorted(\n",
    "                                words[target_l:target_r] + words[source_l:source_r]\n",
    "                            )\n",
    "                            + words[target_r:source_l]\n",
    "                            + words[source_r:]\n",
    "                        )\n",
    "                    else:\n",
    "                        continue\n",
    "                    if (t := tuple(permuted)) not in found:\n",
    "                        found.add(t)\n",
    "                        results.append(\n",
    "                            (permuted, (source_l, source_r, target_l, target_r, 3))\n",
    "                        )\n",
    "            random.shuffle(results)\n",
    "            yield from results\n",
    "\n",
    "        r = range(length, len(words) - length + 1)\n",
    "        for center in random.sample(r, len(r)):\n",
    "            results = []\n",
    "            # 右が短い\n",
    "            right = center + length\n",
    "            for left_length in itertools.count(length):\n",
    "                left = center - left_length\n",
    "                if left < 0:\n",
    "                    break\n",
    "                permuted = (\n",
    "                    words[:left]\n",
    "                    + words[center:right]\n",
    "                    + words[left:center]\n",
    "                    + words[right:]\n",
    "                )\n",
    "                if (t := tuple(permuted)) not in found:\n",
    "                    found.add(t)\n",
    "                    results.append((permuted, (left, center, right, 0)))\n",
    "                if length == 2:\n",
    "                    permuted = (\n",
    "                        words[:left]\n",
    "                        + words[center:right][::-1]\n",
    "                        + words[left:center]\n",
    "                        + words[right:]\n",
    "                    )\n",
    "                    if (t := tuple(permuted)) not in found:\n",
    "                        found.add(t)\n",
    "                        results.append((permuted, (left, center, right, 1)))\n",
    "                    if left_length == 2:\n",
    "                        permuted = (\n",
    "                            words[:left]\n",
    "                            + words[center:right]\n",
    "                            + words[left:center][::-1]\n",
    "                            + words[right:]\n",
    "                        )\n",
    "                        if (t := tuple(permuted)) not in found:\n",
    "                            found.add(t)\n",
    "                            results.append((permuted, (left, center, right, 2)))\n",
    "            # 左が短い\n",
    "            left = center - length\n",
    "            for right_length in itertools.count(length + 1):\n",
    "                right = center + right_length\n",
    "                if right > len(words):\n",
    "                    break\n",
    "                permuted = (\n",
    "                    words[:left]\n",
    "                    + words[center:right]\n",
    "                    + words[left:center]\n",
    "                    + words[right:]\n",
    "                )\n",
    "                if (t := tuple(permuted)) not in found:\n",
    "                    found.add(t)\n",
    "                    results.append((permuted, (left, center, right, 0)))\n",
    "                if length == 2:\n",
    "                    permuted = (\n",
    "                        words[:left]\n",
    "                        + words[center:right]\n",
    "                        + words[left:center][::-1]\n",
    "                        + words[right:]\n",
    "                    )\n",
    "                    if (t := tuple(permuted)) not in found:\n",
    "                        found.add(t)\n",
    "                        results.append((permuted, (left, center, right, 1)))\n",
    "            random.shuffle(results)\n",
    "            yield from results"
   ]
  },
  {
   "cell_type": "code",
   "execution_count": 102,
   "id": "55181410-a913-41a1-9175-bd31bf6175c5",
   "metadata": {},
   "outputs": [],
   "source": [
    "# txt_best = df_memo[\"txt\"].tolist()[0]\n",
    "words_best = txt_best.split(\" \")\n",
    "ppl_best = calculator.get_perplexity(\" \".join(words_best))"
   ]
  },
  {
   "cell_type": "code",
   "execution_count": 114,
   "id": "4bce659e-572c-43f3-96d1-bf37778b9707",
   "metadata": {},
   "outputs": [],
   "source": [
    "def estimate_score(words: list[str]) -> float:\n",
    "    score = 0\n",
    "    for i in range(len(words)):\n",
    "        if i == 0:\n",
    "            key = (words[i],)\n",
    "        elif i == 1:\n",
    "            key = (words[i-1], words[i])\n",
    "            \n",
    "        elif i == 2:\n",
    "            key = (words[i-2], words[i-1], words[i])\n",
    "        else:\n",
    "            key = (words[i-3], words[i-2], words[i-1], words[i])\n",
    "            \n",
    "        score_add = score_dict[key]\n",
    "        score += score_add\n",
    "        # print(key, score_add)\n",
    "    score += score_dict[(words[-3], words[-2], words[-1], \"<eos>\")]\n",
    "    # print(score_add)\n",
    "    return score"
   ]
  },
  {
   "cell_type": "code",
   "execution_count": 115,
   "id": "f0105cba-4f4b-4359-bb54-2ba7ad39e206",
   "metadata": {},
   "outputs": [],
   "source": [
    "# estimate_score(\"from the the the of of and and and\".split(\" \"))"
   ]
  },
  {
   "cell_type": "code",
   "execution_count": 116,
   "id": "ed69b781-705c-4bbb-a3c7-7db6b38a66ce",
   "metadata": {},
   "outputs": [],
   "source": [
    "# pd.to_pickle(score_dict, \"score_dict_0005_3.pkl\")"
   ]
  },
  {
   "cell_type": "code",
   "execution_count": 117,
   "id": "161a04c0-2ac5-46e2-878a-5b537ad47b02",
   "metadata": {},
   "outputs": [],
   "source": [
    "# estimate_score(df_est[\"txt\"].tolist()[0].split(\" \"))"
   ]
  },
  {
   "cell_type": "code",
   "execution_count": 118,
   "id": "18fdd9c3-7a43-4481-87b6-3f064a60f537",
   "metadata": {},
   "outputs": [],
   "source": [
    "# estimate_score(df_est[\"txt\"].tolist()[-1].split(\" \"))"
   ]
  },
  {
   "cell_type": "code",
   "execution_count": 119,
   "id": "bcefdbcc-7ec2-4846-a5f0-2617807327ae",
   "metadata": {},
   "outputs": [],
   "source": [
    "# estimate_score(\"from the the the of family game give hope\".split(\" \"))"
   ]
  },
  {
   "cell_type": "code",
   "execution_count": 120,
   "id": "7dee4f66-b6b5-42c4-86e1-cb51edc47970",
   "metadata": {},
   "outputs": [
    {
     "data": {
      "application/vnd.jupyter.widget-view+json": {
       "model_id": "80cf82ad941b4ff4945174834a2b034f",
       "version_major": 2,
       "version_minor": 0
      },
      "text/plain": [
       "0it [00:00, ?it/s]"
      ]
     },
     "metadata": {},
     "output_type": "display_data"
    }
   ],
   "source": [
    "visited = set()\n",
    "words_candidate = make_neighbors(words_best)\n",
    "neighbors = []\n",
    "for words_test, _ in tqdm(words_candidate):\n",
    "    if tuple(words_test) in visited:\n",
    "        continue\n",
    "    visited.add(tuple(words_test))\n",
    "    neighbors.append((estimate_score(words_test), words_test))\n",
    "# %%\n",
    "neighbors.sort()"
   ]
  },
  {
   "cell_type": "code",
   "execution_count": 121,
   "id": "4d56427a-d64a-416e-9c81-2a618ce1d48d",
   "metadata": {},
   "outputs": [],
   "source": [
    "test_txts = [\" \".join(words) for _, words in neighbors[:1024]]\n",
    "est_scores = [est_score for est_score, _ in neighbors[:1024]]\n",
    "# %%\n"
   ]
  },
  {
   "cell_type": "code",
   "execution_count": 122,
   "id": "1cabe90b-487f-4dba-88bb-9cf5603a9e0d",
   "metadata": {},
   "outputs": [],
   "source": [
    "scores = calculator.get_perplexity(test_txts, batch_size=64)"
   ]
  },
  {
   "cell_type": "code",
   "execution_count": 123,
   "id": "17ccf39e-21a6-4e09-ae38-36d81cf0463a",
   "metadata": {},
   "outputs": [
    {
     "data": {
      "text/html": [
       "<div>\n",
       "<style scoped>\n",
       "    .dataframe tbody tr th:only-of-type {\n",
       "        vertical-align: middle;\n",
       "    }\n",
       "\n",
       "    .dataframe tbody tr th {\n",
       "        vertical-align: top;\n",
       "    }\n",
       "\n",
       "    .dataframe thead th {\n",
       "        text-align: right;\n",
       "    }\n",
       "</style>\n",
       "<table border=\"1\" class=\"dataframe\">\n",
       "  <thead>\n",
       "    <tr style=\"text-align: right;\">\n",
       "      <th></th>\n",
       "      <th>txt</th>\n",
       "      <th>estimated_score</th>\n",
       "      <th>log_score</th>\n",
       "      <th>estimated_rank</th>\n",
       "      <th>actual_rank</th>\n",
       "    </tr>\n",
       "  </thead>\n",
       "  <tbody>\n",
       "    <tr>\n",
       "      <th>14</th>\n",
       "      <td>reindeer mistletoe elf gingerbread ornament fa...</td>\n",
       "      <td>113.874847</td>\n",
       "      <td>6.183594</td>\n",
       "      <td>14</td>\n",
       "      <td>0</td>\n",
       "    </tr>\n",
       "    <tr>\n",
       "      <th>59</th>\n",
       "      <td>reindeer mistletoe elf gingerbread family scro...</td>\n",
       "      <td>119.198288</td>\n",
       "      <td>6.222656</td>\n",
       "      <td>59</td>\n",
       "      <td>1</td>\n",
       "    </tr>\n",
       "    <tr>\n",
       "      <th>48</th>\n",
       "      <td>reindeer mistletoe gingerbread family advent s...</td>\n",
       "      <td>118.492798</td>\n",
       "      <td>6.234375</td>\n",
       "      <td>48</td>\n",
       "      <td>2</td>\n",
       "    </tr>\n",
       "    <tr>\n",
       "      <th>12</th>\n",
       "      <td>reindeer mistletoe gingerbread elf family adve...</td>\n",
       "      <td>113.637192</td>\n",
       "      <td>6.242188</td>\n",
       "      <td>12</td>\n",
       "      <td>3</td>\n",
       "    </tr>\n",
       "    <tr>\n",
       "      <th>0</th>\n",
       "      <td>reindeer mistletoe elf gingerbread family orna...</td>\n",
       "      <td>110.163895</td>\n",
       "      <td>6.242188</td>\n",
       "      <td>0</td>\n",
       "      <td>4</td>\n",
       "    </tr>\n",
       "    <tr>\n",
       "      <th>...</th>\n",
       "      <td>...</td>\n",
       "      <td>...</td>\n",
       "      <td>...</td>\n",
       "      <td>...</td>\n",
       "      <td>...</td>\n",
       "    </tr>\n",
       "    <tr>\n",
       "      <th>199</th>\n",
       "      <td>elf gingerbread family advent reindeer mistlet...</td>\n",
       "      <td>131.561140</td>\n",
       "      <td>8.710938</td>\n",
       "      <td>199</td>\n",
       "      <td>216</td>\n",
       "    </tr>\n",
       "    <tr>\n",
       "      <th>211</th>\n",
       "      <td>elf gingerbread family advent scrooge chimney ...</td>\n",
       "      <td>134.986679</td>\n",
       "      <td>8.710938</td>\n",
       "      <td>211</td>\n",
       "      <td>217</td>\n",
       "    </tr>\n",
       "    <tr>\n",
       "      <th>208</th>\n",
       "      <td>family advent reindeer mistletoe elf gingerbre...</td>\n",
       "      <td>133.399006</td>\n",
       "      <td>8.757812</td>\n",
       "      <td>208</td>\n",
       "      <td>218</td>\n",
       "    </tr>\n",
       "    <tr>\n",
       "      <th>217</th>\n",
       "      <td>family advent scrooge chimney fireplace orname...</td>\n",
       "      <td>136.681351</td>\n",
       "      <td>8.765625</td>\n",
       "      <td>217</td>\n",
       "      <td>219</td>\n",
       "    </tr>\n",
       "    <tr>\n",
       "      <th>220</th>\n",
       "      <td>family gingerbread reindeer mistletoe elf adve...</td>\n",
       "      <td>142.625755</td>\n",
       "      <td>8.929688</td>\n",
       "      <td>220</td>\n",
       "      <td>220</td>\n",
       "    </tr>\n",
       "  </tbody>\n",
       "</table>\n",
       "<p>221 rows × 5 columns</p>\n",
       "</div>"
      ],
      "text/plain": [
       "                                                   txt  estimated_score  \\\n",
       "14   reindeer mistletoe elf gingerbread ornament fa...       113.874847   \n",
       "59   reindeer mistletoe elf gingerbread family scro...       119.198288   \n",
       "48   reindeer mistletoe gingerbread family advent s...       118.492798   \n",
       "12   reindeer mistletoe gingerbread elf family adve...       113.637192   \n",
       "0    reindeer mistletoe elf gingerbread family orna...       110.163895   \n",
       "..                                                 ...              ...   \n",
       "199  elf gingerbread family advent reindeer mistlet...       131.561140   \n",
       "211  elf gingerbread family advent scrooge chimney ...       134.986679   \n",
       "208  family advent reindeer mistletoe elf gingerbre...       133.399006   \n",
       "217  family advent scrooge chimney fireplace orname...       136.681351   \n",
       "220  family gingerbread reindeer mistletoe elf adve...       142.625755   \n",
       "\n",
       "     log_score  estimated_rank  actual_rank  \n",
       "14    6.183594              14            0  \n",
       "59    6.222656              59            1  \n",
       "48    6.234375              48            2  \n",
       "12    6.242188              12            3  \n",
       "0     6.242188               0            4  \n",
       "..         ...             ...          ...  \n",
       "199   8.710938             199          216  \n",
       "211   8.710938             211          217  \n",
       "208   8.757812             208          218  \n",
       "217   8.765625             217          219  \n",
       "220   8.929688             220          220  \n",
       "\n",
       "[221 rows x 5 columns]"
      ]
     },
     "execution_count": 123,
     "metadata": {},
     "output_type": "execute_result"
    }
   ],
   "source": [
    "df_est = pd.DataFrame({\"txt\": test_txts, \"estimated_score\": est_scores, \"log_score\": np.log(scores)})\n",
    "df_est.sort_values(\"estimated_score\", ascending=True, inplace=True)\n",
    "df_est[\"estimated_rank\"] = np.arange(len(df_est))\n",
    "df_est.sort_values(\"log_score\", ascending=True, inplace=True)\n",
    "df_est[\"actual_rank\"] = np.arange(len(df_est))\n",
    "# %%\n",
    "df_est"
   ]
  },
  {
   "cell_type": "code",
   "execution_count": 124,
   "id": "bb3068af-8e7a-473c-b05e-e0db6776161b",
   "metadata": {},
   "outputs": [
    {
     "data": {
      "text/plain": [
       "<Axes: xlabel='estimated_score', ylabel='log_score'>"
      ]
     },
     "execution_count": 124,
     "metadata": {},
     "output_type": "execute_result"
    },
    {
     "data": {
      "image/png": "[encoded data removed]",
      "text/plain": [
       "<Figure size 1200x600 with 2 Axes>"
      ]
     },
     "metadata": {},
     "output_type": "display_data"
    }
   ],
   "source": [
    "plt.style.use(\"ggplot\")\n",
    "fig, ax = plt.subplots(1, 2, figsize=(12, 6))\n",
    "df_est.plot.scatter(x=\"estimated_rank\", y=\"actual_rank\", alpha=0.3, ax=ax[0])\n",
    "df_est.plot.scatter(x=\"estimated_score\", y=\"log_score\", alpha=0.3, ax=ax[1])\n"
   ]
  },
  {
   "cell_type": "code",
   "execution_count": null,
   "id": "2169bfa2-ec31-43bd-98e9-56751c2038b2",
   "metadata": {},
   "outputs": [],
   "source": []
  }
 ],
 "metadata": {
  "kernelspec": {
   "display_name": "Python 3 (ipykernel)",
   "language": "python",
   "name": "python3"
  },
  "language_info": {
   "codemirror_mode": {
    "name": "ipython",
    "version": 3
   },
   "file_extension": ".py",
   "mimetype": "text/x-python",
   "name": "python",
   "nbconvert_exporter": "python",
   "pygments_lexer": "ipython3",
   "version": "3.11.10"
  }
 },
 "nbformat": 4,
 "nbformat_minor": 5
}
